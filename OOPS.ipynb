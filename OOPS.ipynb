{
 "cells": [
  {
   "cell_type": "code",
   "execution_count": null,
   "id": "995549f7",
   "metadata": {},
   "outputs": [],
   "source": []
  },
  {
   "cell_type": "code",
   "execution_count": 8,
   "id": "f9b8b177",
   "metadata": {},
   "outputs": [
    {
     "name": "stdout",
     "output_type": "stream",
     "text": [
      "ABC 13121\n"
     ]
    }
   ],
   "source": [
    "class employee:\n",
    "    name = \"ABC\"\n",
    "    empid= 13121\n",
    "    def details(self):\n",
    "        print(self.name, self.empid)\n",
    "\n",
    "\n",
    "emp = employee()\n",
    "emp.details()\n"
   ]
  },
  {
   "cell_type": "code",
   "execution_count": 9,
   "id": "d3084f3b",
   "metadata": {},
   "outputs": [
    {
     "name": "stdout",
     "output_type": "stream",
     "text": [
      "enter the milage 78.88\n",
      "enter the cost of the vehicle7000000\n",
      "78.88 7000000.0\n"
     ]
    }
   ],
   "source": [
    "class vehicle:\n",
    "    milage=float(input(\"enter the milage \"))\n",
    "    cost=float(input(\"enter the cost of the vehicle\"))\n",
    "    def carDetails(self):\n",
    "        print(self.milage,self.cost)\n",
    "car=vehicle()\n",
    "car.carDetails()\n",
    "    "
   ]
  },
  {
   "cell_type": "code",
   "execution_count": 11,
   "id": "ae4fe963",
   "metadata": {},
   "outputs": [],
   "source": [
    "class item:\n",
    "    def setqty(self,qty):\n",
    "        self.qty=qty\n",
    "    def showqty(self):\n",
    "        print(\"Qty=\",self.qty)\n",
    "    def setprice(self,pr):\n",
    "        self.pr=pr\n",
    "    def showprice(self):\n",
    "        print(\"Price=\",self.pr)\n",
    "it=item()\n",
    "it.setqty(20)"
   ]
  },
  {
   "cell_type": "markdown",
   "id": "a7155c66",
   "metadata": {},
   "source": [
    "__init__() : special function or type of constructor-automatic initialisation of objetct at the time of its creation\n",
    ">class functions that begins with double underscore(__) are called special functions as they have special meaning.\n",
    ">All classes have a function called __init__, which is always executed when the class is being initiated\n",
    ">Use the  __init__() function to assisgn values object properties ,or other operations that are necessary to do when the object is being created"
   ]
  },
  {
   "cell_type": "code",
   "execution_count": 14,
   "id": "22731ad3",
   "metadata": {},
   "outputs": [
    {
     "name": "stdout",
     "output_type": "stream",
     "text": [
      "Person id: 100\n",
      "Person name: Radha\n"
     ]
    }
   ],
   "source": [
    "class person:\n",
    "    def __init__(self,id,nm): # parameterised contructer\n",
    "        self.id=id\n",
    "        self.nm=nm\n",
    "    def display(self):\n",
    "        print(\"Person id:\",self.id)\n",
    "        print(\"Person name:\",self.nm)\n",
    "        \n",
    "p1=person(100,\"Radha\")\n",
    "p1.display()"
   ]
  },
  {
   "cell_type": "code",
   "execution_count": 17,
   "id": "c4d0669f",
   "metadata": {},
   "outputs": [
    {
     "name": "stdout",
     "output_type": "stream",
     "text": [
      "No args\n"
     ]
    }
   ],
   "source": [
    "class person:\n",
    "    \n",
    "    def __init__(self): #non parameters constructor\n",
    "        print(\"No args\")\n",
    "       \n",
    "    def display(self):\n",
    "        print(\"Person id:\",self.id)\n",
    "        print(\"Person name:\",self.nm)\n",
    "        \n",
    "p2=person()\n",
    "#p2.display()"
   ]
  },
  {
   "cell_type": "markdown",
   "id": "ea5242a2",
   "metadata": {},
   "source": [
    "#### inheritance #####- it refers to defining a new class with little or nop modification to an existing class(poweful feature in oops)\n",
    "\n",
    "Syntax:\n",
    "Class BaseClass:\n",
    "      body of base class\n",
    "Class Derivedclass(BaseClass):\n",
    "      body of derived class\n",
    "      \n",
    "1)Single inheritance:\n",
    "child class aquires properies from single parent"
   ]
  },
  {
   "cell_type": "code",
   "execution_count": 19,
   "id": "c503de1d",
   "metadata": {},
   "outputs": [
    {
     "name": "stdout",
     "output_type": "stream",
     "text": [
      "10 abc\n",
      "Total is: 99\n"
     ]
    }
   ],
   "source": [
    "class student:#parent class\n",
    "        rno=10\n",
    "        nm=\"abc\"\n",
    "        def show(self):\n",
    "            print(self.rno,self.nm)\n",
    "class mark(student): #child class\n",
    "    m1=34\n",
    "    m2=65\n",
    "    def total(self):\n",
    "        t=self.m1+self.m2\n",
    "        print(\"Total is:\",t)\n",
    "#object\n",
    "mk=mark()\n",
    "mk.show()\n",
    "mk.total()"
   ]
  },
  {
   "cell_type": "markdown",
   "id": "1781edc3",
   "metadata": {},
   "source": [
    "2)Multiple Inheritance:\n",
    "when Child class is derived from more that one parent class that type of inheritance is called as multiple inheritance.\n",
    "Syntax:\n",
    "class Base1:\n",
    "   pass\n",
    "class Base2:\n",
    "   pass\n",
    "class MultipleDerived(Base1,Base2):\n",
    "   pass"
   ]
  },
  {
   "cell_type": "code",
   "execution_count": 21,
   "id": "c91a6b25",
   "metadata": {},
   "outputs": [
    {
     "name": "stdout",
     "output_type": "stream",
     "text": [
      "placing order\n",
      "client Info \n",
      " ABC Pune\n",
      "item Info \n",
      " TV 25000\n"
     ]
    }
   ],
   "source": [
    "class client:\n",
    "    def __init__(self,nm,addr):\n",
    "        self.nm=nm\n",
    "        self.addr=addr\n",
    "    def show(self):\n",
    "        print(\"client Info \\n\", self.nm,self.addr)\n",
    "class item:\n",
    "    inm=\"TV\"\n",
    "    price=25000\n",
    "    def dis(self):\n",
    "        print(\"item Info \\n\", self.inm,self.price)\n",
    "class order(client,item):\n",
    "        def placeorder(self):\n",
    "            print(\"placing order\")\n",
    "ord=order(\"ABC\",\"Pune\")\n",
    "ord.placeorder()\n",
    "ord.show()\n",
    "ord.dis()\n"
   ]
  },
  {
   "cell_type": "markdown",
   "id": "9cd91010",
   "metadata": {},
   "source": [
    "3) Multilevel Inheritance\n",
    "In this type there are one parent class and child class which is derived from parent class and child class is derived from the child class this type is called as multilevel inheritance\n"
   ]
  },
  {
   "cell_type": "code",
   "execution_count": 22,
   "id": "37c9f7d4",
   "metadata": {},
   "outputs": [
    {
     "name": "stdout",
     "output_type": "stream",
     "text": [
      "10 abc\n",
      "Total is: 99\n",
      "sport marks: 90\n"
     ]
    }
   ],
   "source": [
    "class student:#parent class\n",
    "        rno=10\n",
    "        nm=\"abc\"\n",
    "        def show(self):\n",
    "            print(self.rno,self.nm)\n",
    "class mark(student): #child class\n",
    "    m1=34\n",
    "    m2=65\n",
    "    def total(self):\n",
    "        t=self.m1+self.m2\n",
    "        print(\"Total is:\",t)\n",
    "class sports(mark):\n",
    "    sp=90\n",
    "    def sp_show(self):\n",
    "        print(\"sport marks:\",self.sp)\n",
    "#object\n",
    "s=sports()\n",
    "s.show()\n",
    "s.total()\n",
    "s.sp_show()"
   ]
  },
  {
   "cell_type": "markdown",
   "id": "6138dd16",
   "metadata": {},
   "source": [
    "########## Method Overriding#############\n",
    "\n",
    "Method overriding:when we have the same function name in parent class as well in child class it hides the functionality of parent class in case of inheritance which showing the details of child class \n"
   ]
  },
  {
   "cell_type": "code",
   "execution_count": 26,
   "id": "e6097566",
   "metadata": {},
   "outputs": [
    {
     "name": "stdout",
     "output_type": "stream",
     "text": [
      "10 abc\n",
      "Total is: 99\n"
     ]
    }
   ],
   "source": [
    "class student:#parent class\n",
    "        rno=10\n",
    "        nm=\"abc\"\n",
    "        def show(self):\n",
    "            print(self.rno,self.nm)\n",
    "class mark(student): #child class\n",
    "    m1=34\n",
    "    m2=65\n",
    "    def show(self):\n",
    "        t=self.m1+self.m2\n",
    "        print(\"Total is:\",t)\n",
    "#object\n",
    "std=student()\n",
    "std.show()\n",
    "mk=mark()\n",
    "mk.show()"
   ]
  },
  {
   "cell_type": "markdown",
   "id": "9b3668fa",
   "metadata": {},
   "source": [
    "#############POLYMORPHISM: ##################\n",
    "polymorphism one thing can have more that forms\n",
    "one function can behave differently depending upon number and type of parameters passed to it\n"
   ]
  },
  {
   "cell_type": "code",
   "execution_count": 31,
   "id": "17f9c79c",
   "metadata": {},
   "outputs": [
    {
     "name": "stdout",
     "output_type": "stream",
     "text": [
      "120\n",
      "BCA\n",
      "5\n",
      "3\n",
      "41\n",
      "65\n",
      "xy\n"
     ]
    }
   ],
   "source": [
    "print(120)\n",
    "print(\"BCA\")\n",
    "print(len(\"Hello\"))\n",
    "print(len([10,22,33]))\n",
    "\n",
    "def add(a,b,d=0):\n",
    "    c=a+b\n",
    "    print(c)\n",
    "add(19,22,33)\n",
    "add(22,43)\n",
    "add(\"x\",\"y\")"
   ]
  },
  {
   "cell_type": "markdown",
   "id": "aa1f3b7e",
   "metadata": {},
   "source": [
    " polymorphism using for loop and using function"
   ]
  },
  {
   "cell_type": "code",
   "execution_count": 35,
   "id": "709810ca",
   "metadata": {},
   "outputs": [
    {
     "name": "stdout",
     "output_type": "stream",
     "text": [
      "Delhi\n",
      "Hindi\n",
      "UK\n",
      "English\n"
     ]
    }
   ],
   "source": [
    "#polymorphism using for loop\n",
    "class india:\n",
    "    def capital(self):\n",
    "        print(\"Delhi\")\n",
    "    def lang(self):\n",
    "        print(\"Hindi\")\n",
    "class UK:\n",
    "    def capital(self):\n",
    "        print(\"UK\")\n",
    "    def lang(self):\n",
    "        print(\"English\") \n",
    "ind=india()\n",
    "uk=UK()\n",
    "for c in (ind,uk): # here diff parame displayed with the help of same variable c using for loop\n",
    "    c.capital()\n",
    "    c.lang()"
   ]
  },
  {
   "cell_type": "code",
   "execution_count": 36,
   "id": "1e62b044",
   "metadata": {},
   "outputs": [
    {
     "name": "stdout",
     "output_type": "stream",
     "text": [
      "Delhi\n",
      "Hindi\n",
      "UK\n",
      "English\n"
     ]
    }
   ],
   "source": [
    "#POLYMORPHISM USING THE FUNCTION\n",
    "\n",
    "class india:\n",
    "    def capital(self):\n",
    "        print(\"Delhi\")\n",
    "    def lang(self):\n",
    "        print(\"Hindi\")\n",
    "class UK:\n",
    "    def capital(self):\n",
    "        print(\"UK\")\n",
    "    def lang(self):\n",
    "        print(\"English\") \n",
    "def fun(obj): # calling the method of other classes using function\n",
    "    obj.capital()\n",
    "    obj.lang()\n",
    "    \n",
    "ind=india()\n",
    "uk=UK()\n",
    "fun(ind)\n",
    "fun(uk)\n"
   ]
  },
  {
   "cell_type": "markdown",
   "id": "cd5a2918",
   "metadata": {},
   "source": [
    "#WAP for create 2 class \n",
    "1. company\n",
    "2.employee\n",
    "use inheritance"
   ]
  },
  {
   "cell_type": "code",
   "execution_count": 48,
   "id": "b549f772",
   "metadata": {},
   "outputs": [
    {
     "name": "stdout",
     "output_type": "stream",
     "text": [
      "Company details are: ABC 1234\n",
      "employee details are: XYZ 1234\n"
     ]
    }
   ],
   "source": [
    "class company:\n",
    "    cmpname=\"ABC\"\n",
    "    empid=1234\n",
    "    def cdetails(self):\n",
    "        print(\"Company details are:\",self.cmpname,self.empid)\n",
    "class employee(company):\n",
    "    empname=\"XYZ\"\n",
    "    empid:456\n",
    "    def edetails(self):\n",
    "        print(\"employee details are:\",self.empname,self.empid)\n",
    "e=employee()\n",
    "e.cdetails()\n",
    "e.edetails()\n",
    "            "
   ]
  },
  {
   "cell_type": "markdown",
   "id": "0581902b",
   "metadata": {},
   "source": [
    "################Operator overloading##############\n",
    "We are giving extended meaning beyond there predefined operational meaning.\n",
    "For ex:\n",
    "plus operator is used to add two integers but we can enforce the same operator to make a addition of two objects means same built in operator or function shows different behaviour for objects is called as operator overloading\n",
    "\n",
    "1)magic methods/functions:\n",
    " __add__(self,object)\n",
    " __sub__(self,object)\n",
    " __mul__(self,object)\n",
    " __truedev__(self,object)\n",
    " __mod__(self,object)\n",
    " __lt__(self,object)  -- less than\n",
    " __gt__(self,object) --greater than \n",
    " __le__(self,object)-- less than equal to\n",
    " __ge__(self,object)  -- greater than equal to\n",
    " __ne__(self,object) ---not equal to\n",
    " __eq__(self,object) --equal to equal to"
   ]
  },
  {
   "cell_type": "code",
   "execution_count": 54,
   "id": "1b34a9f1",
   "metadata": {},
   "outputs": [
    {
     "name": "stdout",
     "output_type": "stream",
     "text": [
      "7\n",
      "obj2 is greater\n"
     ]
    }
   ],
   "source": [
    "class A:\n",
    "    def __init__(self,a):\n",
    "        self.a=a\n",
    "    def __add__(self,obj):\n",
    "        c=self.a+obj.a\n",
    "        return c\n",
    "    def __gt__(self,obj):\n",
    "        if(self.a>obj.a):\n",
    "            return True\n",
    "        else:\n",
    "            return False\n",
    "     \n",
    "obj1=A(2)\n",
    "obj2=A(5)\n",
    "\n",
    "print(obj1+obj2) # here self is act as obj1 and obj is act as obj2\n",
    "\n",
    "if(obj1 > obj2):\n",
    "    print(\"obj1 is greater\")\n",
    "else:\n",
    "    print(\"obj2 is greater\")\n"
   ]
  },
  {
   "cell_type": "code",
   "execution_count": null,
   "id": "ceee927b",
   "metadata": {},
   "outputs": [],
   "source": []
  }
 ],
 "metadata": {
  "kernelspec": {
   "display_name": "Python 3",
   "language": "python",
   "name": "python3"
  },
  "language_info": {
   "codemirror_mode": {
    "name": "ipython",
    "version": 3
   },
   "file_extension": ".py",
   "mimetype": "text/x-python",
   "name": "python",
   "nbconvert_exporter": "python",
   "pygments_lexer": "ipython3",
   "version": "3.8.8"
  }
 },
 "nbformat": 4,
 "nbformat_minor": 5
}
