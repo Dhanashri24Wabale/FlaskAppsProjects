{
 "cells": [
  {
   "cell_type": "code",
   "execution_count": 178,
   "id": "58db13a3",
   "metadata": {},
   "outputs": [],
   "source": [
    "list1=[\"kartiki\",99.7,\"aarti\"]"
   ]
  },
  {
   "cell_type": "code",
   "execution_count": 179,
   "id": "64cca3d9",
   "metadata": {},
   "outputs": [
    {
     "name": "stdout",
     "output_type": "stream",
     "text": [
      "['kartiki', 99.7, 'aarti']\n"
     ]
    }
   ],
   "source": [
    "print(list1)"
   ]
  },
  {
   "cell_type": "code",
   "execution_count": 180,
   "id": "fbf284af",
   "metadata": {},
   "outputs": [
    {
     "name": "stdout",
     "output_type": "stream",
     "text": [
      "<class 'list'>\n"
     ]
    }
   ],
   "source": [
    "print(type(list1))"
   ]
  },
  {
   "cell_type": "code",
   "execution_count": 181,
   "id": "2e986d77",
   "metadata": {},
   "outputs": [
    {
     "name": "stdout",
     "output_type": "stream",
     "text": [
      "['abc', 'xyx', 'lll', 'dhdhd']\n"
     ]
    }
   ],
   "source": [
    "list2=[\"abc\",\"xyx\",\"lll\",\"dhdhd\"]\n",
    "print(list2)"
   ]
  },
  {
   "cell_type": "code",
   "execution_count": 182,
   "id": "b38de60d",
   "metadata": {},
   "outputs": [
    {
     "name": "stdout",
     "output_type": "stream",
     "text": [
      "kartiki\n",
      "99.7\n",
      "aarti\n"
     ]
    }
   ],
   "source": [
    "for x in list1:\n",
    "    print(x)"
   ]
  },
  {
   "cell_type": "code",
   "execution_count": 183,
   "id": "11e9a541",
   "metadata": {},
   "outputs": [
    {
     "name": "stdout",
     "output_type": "stream",
     "text": [
      "kartiki\n",
      "99.7\n",
      "aarti\n"
     ]
    }
   ],
   "source": [
    "i=0\n",
    "while(i<len(list1)):\n",
    "    print(list1[i])\n",
    "    i+=1"
   ]
  },
  {
   "cell_type": "code",
   "execution_count": 184,
   "id": "7a0dc36e",
   "metadata": {},
   "outputs": [
    {
     "name": "stdout",
     "output_type": "stream",
     "text": [
      "['watermelon', 'apple', 'banana']\n"
     ]
    }
   ],
   "source": [
    "fruits=[\"watermelon\",\"apple\",\"banana\"]\n",
    "print(fruits)"
   ]
  },
  {
   "cell_type": "code",
   "execution_count": 185,
   "id": "700439ef",
   "metadata": {},
   "outputs": [
    {
     "name": "stdout",
     "output_type": "stream",
     "text": [
      "apple\n"
     ]
    }
   ],
   "source": [
    "print(fruits[1])"
   ]
  },
  {
   "cell_type": "code",
   "execution_count": 186,
   "id": "02ed0649",
   "metadata": {},
   "outputs": [
    {
     "name": "stdout",
     "output_type": "stream",
     "text": [
      "banana\n"
     ]
    }
   ],
   "source": [
    "print(fruits[-1])"
   ]
  },
  {
   "cell_type": "code",
   "execution_count": 187,
   "id": "1694f26c",
   "metadata": {},
   "outputs": [
    {
     "name": "stdout",
     "output_type": "stream",
     "text": [
      "['apple']\n"
     ]
    }
   ],
   "source": [
    "print(fruits[1:2])"
   ]
  },
  {
   "cell_type": "code",
   "execution_count": 188,
   "id": "bab9acfa",
   "metadata": {},
   "outputs": [
    {
     "name": "stdout",
     "output_type": "stream",
     "text": [
      "['watermelon', 'apple']\n"
     ]
    }
   ],
   "source": [
    "print(fruits[:2])"
   ]
  },
  {
   "cell_type": "code",
   "execution_count": 189,
   "id": "7bfb0669",
   "metadata": {},
   "outputs": [
    {
     "name": "stdout",
     "output_type": "stream",
     "text": [
      "['apple', 'banana']\n"
     ]
    }
   ],
   "source": [
    "print(fruits[1:])"
   ]
  },
  {
   "cell_type": "code",
   "execution_count": 190,
   "id": "75ee1522",
   "metadata": {},
   "outputs": [
    {
     "data": {
      "text/plain": [
       "['watermelon', 'KIWI', 'banana']"
      ]
     },
     "execution_count": 190,
     "metadata": {},
     "output_type": "execute_result"
    }
   ],
   "source": [
    "#change the list values\n",
    "fruits[1]=\"KIWI\"\n",
    "\n",
    "fruits"
   ]
  },
  {
   "cell_type": "code",
   "execution_count": 191,
   "id": "24efdd55",
   "metadata": {},
   "outputs": [
    {
     "name": "stdout",
     "output_type": "stream",
     "text": [
      "['watermelon', 'KIWI', 'banana', 'banana']\n"
     ]
    }
   ],
   "source": [
    "#add value into the list: append function is used to add item at the end of the list\n",
    "fruits.append(\"banana\")\n",
    "print(fruits)"
   ]
  },
  {
   "cell_type": "code",
   "execution_count": 192,
   "id": "3074e970",
   "metadata": {},
   "outputs": [
    {
     "name": "stdout",
     "output_type": "stream",
     "text": [
      "['watermelon', 'chickoo', 'KIWI', 'banana', 'banana']\n"
     ]
    }
   ],
   "source": [
    "# insert(): insert function is used to insert an item at specified location\n",
    "fruits.insert(1,\"chickoo\")\n",
    "print(fruits)"
   ]
  },
  {
   "cell_type": "code",
   "execution_count": 193,
   "id": "3a3148e5",
   "metadata": {},
   "outputs": [
    {
     "data": {
      "text/plain": [
       "['watermelon', 'chickoo', 'KIWI', 'banana', 'banana', 'tomato', 'onion']"
      ]
     },
     "execution_count": 193,
     "metadata": {},
     "output_type": "execute_result"
    }
   ],
   "source": [
    "# extend : it appends items from another list into the current list or add or append list items at the end of the list on which we are applying this extend function .\n",
    "\n",
    "veg=[\"tomato\",\"onion\"]\n",
    "fruits.extend(veg)\n",
    "fruits"
   ]
  },
  {
   "cell_type": "code",
   "execution_count": 194,
   "id": "f1691943",
   "metadata": {},
   "outputs": [
    {
     "data": {
      "text/plain": [
       "['watermelon', 'chickoo', 'KIWI', 'banana', 'tomato', 'onion']"
      ]
     },
     "execution_count": 194,
     "metadata": {},
     "output_type": "execute_result"
    }
   ],
   "source": [
    "#delete  values:remove() : removes the specified elements from the list\n",
    "fruits.remove(\"banana\")\n",
    "fruits\n"
   ]
  },
  {
   "cell_type": "code",
   "execution_count": 195,
   "id": "76a16c84",
   "metadata": {},
   "outputs": [
    {
     "data": {
      "text/plain": [
       "['watermelon', 'KIWI', 'banana', 'tomato', 'onion']"
      ]
     },
     "execution_count": 195,
     "metadata": {},
     "output_type": "execute_result"
    }
   ],
   "source": [
    "# pop= removes the items from specified index: and if index is not mentioned then it will remove the last item of the list\n",
    "fruits.pop(1)\n",
    "fruits"
   ]
  },
  {
   "cell_type": "code",
   "execution_count": 196,
   "id": "70375318",
   "metadata": {},
   "outputs": [],
   "source": [
    "# to clear or delete the list del() or clear () function is used\n",
    "del()"
   ]
  },
  {
   "cell_type": "code",
   "execution_count": 197,
   "id": "a1a7187a",
   "metadata": {},
   "outputs": [
    {
     "data": {
      "text/plain": [
       "['watermelon', 'KIWI', 'banana', 'tomato', 'onion']"
      ]
     },
     "execution_count": 197,
     "metadata": {},
     "output_type": "execute_result"
    }
   ],
   "source": [
    "fruits\n"
   ]
  },
  {
   "cell_type": "code",
   "execution_count": 198,
   "id": "f9523660",
   "metadata": {},
   "outputs": [],
   "source": [
    "#del(fruits)"
   ]
  },
  {
   "cell_type": "code",
   "execution_count": 199,
   "id": "05c30172",
   "metadata": {},
   "outputs": [],
   "source": [
    "#fruits"
   ]
  },
  {
   "cell_type": "code",
   "execution_count": 200,
   "id": "2d9465e4",
   "metadata": {},
   "outputs": [],
   "source": [
    "veg=[\"tomato\",\"onion\",\"potato\"]"
   ]
  },
  {
   "cell_type": "code",
   "execution_count": 201,
   "id": "b62185b4",
   "metadata": {},
   "outputs": [
    {
     "data": {
      "text/plain": [
       "['tomato', 'onion', 'potato']"
      ]
     },
     "execution_count": 201,
     "metadata": {},
     "output_type": "execute_result"
    }
   ],
   "source": [
    "veg"
   ]
  },
  {
   "cell_type": "code",
   "execution_count": 202,
   "id": "5218b1c4",
   "metadata": {},
   "outputs": [
    {
     "data": {
      "text/plain": [
       "['onion', 'potato', 'tomato']"
      ]
     },
     "execution_count": 202,
     "metadata": {},
     "output_type": "execute_result"
    }
   ],
   "source": [
    "#sort() => sorting the list in ascending order\n",
    "veg.sort()\n",
    "veg"
   ]
  },
  {
   "cell_type": "code",
   "execution_count": 203,
   "id": "fe5df4de",
   "metadata": {},
   "outputs": [],
   "source": [
    "# soert(reverse=True)=> sorting list into the descending order\n",
    "veg.sort(reverse=True)"
   ]
  },
  {
   "cell_type": "code",
   "execution_count": 204,
   "id": "80f70c18",
   "metadata": {},
   "outputs": [
    {
     "data": {
      "text/plain": [
       "['tomato', 'potato', 'onion']"
      ]
     },
     "execution_count": 204,
     "metadata": {},
     "output_type": "execute_result"
    }
   ],
   "source": [
    "veg"
   ]
  },
  {
   "cell_type": "code",
   "execution_count": 205,
   "id": "569f573b",
   "metadata": {},
   "outputs": [],
   "source": [
    "# reverses string in ascending order\n",
    "veg.reverse()"
   ]
  },
  {
   "cell_type": "code",
   "execution_count": 206,
   "id": "6fa48a64",
   "metadata": {},
   "outputs": [
    {
     "data": {
      "text/plain": [
       "['onion', 'potato', 'tomato']"
      ]
     },
     "execution_count": 206,
     "metadata": {},
     "output_type": "execute_result"
    }
   ],
   "source": [
    "veg"
   ]
  },
  {
   "cell_type": "code",
   "execution_count": 207,
   "id": "0c82831d",
   "metadata": {},
   "outputs": [],
   "source": [
    "veg1=veg.copy()"
   ]
  },
  {
   "cell_type": "code",
   "execution_count": 208,
   "id": "cbcae4ef",
   "metadata": {},
   "outputs": [
    {
     "data": {
      "text/plain": [
       "['onion', 'potato', 'tomato']"
      ]
     },
     "execution_count": 208,
     "metadata": {},
     "output_type": "execute_result"
    }
   ],
   "source": [
    "veg1"
   ]
  },
  {
   "cell_type": "code",
   "execution_count": 209,
   "id": "304b8e22",
   "metadata": {},
   "outputs": [
    {
     "data": {
      "text/plain": [
       "['onion', 'potato', 'tomato', 'onion', 'potato', 'tomato']"
      ]
     },
     "execution_count": 209,
     "metadata": {},
     "output_type": "execute_result"
    }
   ],
   "source": [
    "#join function==>combines two lists\n",
    "veg2=veg+veg1\n",
    "veg2"
   ]
  },
  {
   "cell_type": "markdown",
   "id": "77bfe894",
   "metadata": {},
   "source": [
    "#TUPLES: tuples are used to store multiple items in a single variable\n",
    "#features: 1) oredered 2) unchangeable 3) allows duplicate\n",
    "1)ordered- items have defined order \n",
    "2) unchangeable - can't change or add items from the tuples after it has been created"
   ]
  },
  {
   "cell_type": "code",
   "execution_count": 210,
   "id": "f1176aed",
   "metadata": {},
   "outputs": [
    {
     "data": {
      "text/plain": [
       "('Pune', 'Mumbai', 'Satara')"
      ]
     },
     "execution_count": 210,
     "metadata": {},
     "output_type": "execute_result"
    }
   ],
   "source": [
    "city=(\"Pune\",\"Mumbai\",\"Satara\")\n",
    "city"
   ]
  },
  {
   "cell_type": "code",
   "execution_count": 211,
   "id": "75a8bc32",
   "metadata": {},
   "outputs": [
    {
     "data": {
      "text/plain": [
       "tuple"
      ]
     },
     "execution_count": 211,
     "metadata": {},
     "output_type": "execute_result"
    }
   ],
   "source": [
    "type(city)"
   ]
  },
  {
   "cell_type": "code",
   "execution_count": 212,
   "id": "012f0f28",
   "metadata": {},
   "outputs": [
    {
     "data": {
      "text/plain": [
       "3"
      ]
     },
     "execution_count": 212,
     "metadata": {},
     "output_type": "execute_result"
    }
   ],
   "source": [
    "len(city)"
   ]
  },
  {
   "cell_type": "code",
   "execution_count": 213,
   "id": "47a60bad",
   "metadata": {},
   "outputs": [
    {
     "name": "stdout",
     "output_type": "stream",
     "text": [
      "Mumbai\n"
     ]
    }
   ],
   "source": [
    "print(city[1])"
   ]
  },
  {
   "cell_type": "code",
   "execution_count": 214,
   "id": "ff8e635c",
   "metadata": {},
   "outputs": [
    {
     "data": {
      "text/plain": [
       "('Mumbai', 'Satara')"
      ]
     },
     "execution_count": 214,
     "metadata": {},
     "output_type": "execute_result"
    }
   ],
   "source": [
    "city[1:3]"
   ]
  },
  {
   "cell_type": "code",
   "execution_count": 215,
   "id": "05bf73f8",
   "metadata": {},
   "outputs": [
    {
     "name": "stdout",
     "output_type": "stream",
     "text": [
      "Pune\n",
      "Mumbai\n",
      "Satara\n"
     ]
    }
   ],
   "source": [
    "for x in city:\n",
    "    print(x)"
   ]
  },
  {
   "cell_type": "code",
   "execution_count": 216,
   "id": "025d3222",
   "metadata": {},
   "outputs": [
    {
     "data": {
      "text/plain": [
       "'Satara'"
      ]
     },
     "execution_count": 216,
     "metadata": {},
     "output_type": "execute_result"
    }
   ],
   "source": [
    "city[-1]"
   ]
  },
  {
   "cell_type": "markdown",
   "id": "0093d246",
   "metadata": {},
   "source": [
    "***********************workaround tech**********************************\n",
    "  1)convert tuple to list\n",
    "  2) apply changes to list\n",
    "  3)convert list to tuple again"
   ]
  },
  {
   "cell_type": "code",
   "execution_count": 217,
   "id": "ae7eeef5",
   "metadata": {},
   "outputs": [
    {
     "data": {
      "text/plain": [
       "('rose', 'Jasmine', 'Lotus')"
      ]
     },
     "execution_count": 217,
     "metadata": {},
     "output_type": "execute_result"
    }
   ],
   "source": [
    "flower=(\"rose\",\"Jasmine\",\"Lotus\")\n",
    "flower"
   ]
  },
  {
   "cell_type": "code",
   "execution_count": 218,
   "id": "d8320cf9",
   "metadata": {},
   "outputs": [],
   "source": [
    "f=list(flower)"
   ]
  },
  {
   "cell_type": "code",
   "execution_count": 219,
   "id": "a03a8fe7",
   "metadata": {},
   "outputs": [],
   "source": [
    "f[1]=\"aster\""
   ]
  },
  {
   "cell_type": "code",
   "execution_count": 220,
   "id": "545f4b1f",
   "metadata": {},
   "outputs": [],
   "source": [
    "flower=tuple(f)"
   ]
  },
  {
   "cell_type": "code",
   "execution_count": 221,
   "id": "0433575f",
   "metadata": {},
   "outputs": [
    {
     "data": {
      "text/plain": [
       "('rose', 'aster', 'Lotus')"
      ]
     },
     "execution_count": 221,
     "metadata": {},
     "output_type": "execute_result"
    }
   ],
   "source": [
    "flower"
   ]
  },
  {
   "cell_type": "markdown",
   "id": "bab2f611",
   "metadata": {},
   "source": [
    "******************unpacking tuple*********************\n",
    "packing==> when we are creating tuple and assigning the values to it this is called as packing a tuple \n",
    "unpacking==> it is allowed to extract these values into a variable this is called as unpacking a tuple"
   ]
  },
  {
   "cell_type": "code",
   "execution_count": 222,
   "id": "03c5d5d9",
   "metadata": {},
   "outputs": [
    {
     "data": {
      "text/plain": [
       "('rose', 'Jasmine', 'Lotus')"
      ]
     },
     "execution_count": 222,
     "metadata": {},
     "output_type": "execute_result"
    }
   ],
   "source": [
    "#packing a tuple\n",
    "flower=(\"rose\",\"Jasmine\",\"Lotus\")\n",
    "flower\n"
   ]
  },
  {
   "cell_type": "code",
   "execution_count": 223,
   "id": "c0202101",
   "metadata": {},
   "outputs": [],
   "source": [
    "#unpacking a tuple\n",
    "(a,b,c)=flower"
   ]
  },
  {
   "cell_type": "code",
   "execution_count": 224,
   "id": "446df575",
   "metadata": {},
   "outputs": [
    {
     "name": "stdout",
     "output_type": "stream",
     "text": [
      "rose\n",
      "Jasmine\n",
      "Lotus\n"
     ]
    }
   ],
   "source": [
    "print(a)\n",
    "print(b)\n",
    "print(c)"
   ]
  },
  {
   "cell_type": "code",
   "execution_count": 225,
   "id": "27ac556e",
   "metadata": {},
   "outputs": [
    {
     "data": {
      "text/plain": [
       "('rose', 'Jasmine', 'Lotus', 1, 2, 3)"
      ]
     },
     "execution_count": 225,
     "metadata": {},
     "output_type": "execute_result"
    }
   ],
   "source": [
    "num=(1,2,3)\n",
    "new=flower+num\n",
    "new"
   ]
  },
  {
   "cell_type": "markdown",
   "id": "b1dafefe",
   "metadata": {},
   "source": [
    "%%%%%%%%%%%%%%%%%%%%%% SET  %%%%%%%%%%%%%%%%%%%%%%%%%%%%\n",
    "using set we can store multiple items in single variable\n",
    "1)unordered =>items in a set don't have defined order ,items in a set can apprear in different order everytime you used it \n",
    "2)unidexed-that's why we cannot refer it using index\n",
    "3)unchangeable- cannot change once set is created but we can add elements only,\n",
    "4)duplicates not allowed"
   ]
  },
  {
   "cell_type": "code",
   "execution_count": 226,
   "id": "a3eddd72",
   "metadata": {},
   "outputs": [
    {
     "data": {
      "text/plain": [
       "{'pink', 'red', 'white', 'yellow'}"
      ]
     },
     "execution_count": 226,
     "metadata": {},
     "output_type": "execute_result"
    }
   ],
   "source": [
    "color={\"red\",\"pink\",\"yellow\",\"white\"}\n",
    "color"
   ]
  },
  {
   "cell_type": "code",
   "execution_count": 227,
   "id": "926ae308",
   "metadata": {},
   "outputs": [
    {
     "data": {
      "text/plain": [
       "type"
      ]
     },
     "execution_count": 227,
     "metadata": {},
     "output_type": "execute_result"
    }
   ],
   "source": [
    "type(set)"
   ]
  },
  {
   "cell_type": "code",
   "execution_count": 228,
   "id": "63bace56",
   "metadata": {},
   "outputs": [
    {
     "data": {
      "text/plain": [
       "{'pink', 'red', 'white', 'yellow'}"
      ]
     },
     "execution_count": 228,
     "metadata": {},
     "output_type": "execute_result"
    }
   ],
   "source": [
    "color"
   ]
  },
  {
   "cell_type": "code",
   "execution_count": 229,
   "id": "13ae4037",
   "metadata": {},
   "outputs": [
    {
     "data": {
      "text/plain": [
       "4"
      ]
     },
     "execution_count": 229,
     "metadata": {},
     "output_type": "execute_result"
    }
   ],
   "source": [
    "len(color)"
   ]
  },
  {
   "cell_type": "code",
   "execution_count": 230,
   "id": "599e6b69",
   "metadata": {},
   "outputs": [
    {
     "name": "stdout",
     "output_type": "stream",
     "text": [
      "{'white', 'yellow', 'pink', 'red'}\n"
     ]
    }
   ],
   "source": [
    "print(color)"
   ]
  },
  {
   "cell_type": "code",
   "execution_count": 231,
   "id": "988c7b31",
   "metadata": {},
   "outputs": [
    {
     "name": "stdout",
     "output_type": "stream",
     "text": [
      "white\n",
      "yellow\n",
      "pink\n",
      "red\n"
     ]
    }
   ],
   "source": [
    "for c in color:\n",
    "    print(c)"
   ]
  },
  {
   "cell_type": "code",
   "execution_count": 232,
   "id": "7d6e1122",
   "metadata": {},
   "outputs": [],
   "source": [
    "#add\n",
    "color.add(\"BabyPink\")"
   ]
  },
  {
   "cell_type": "code",
   "execution_count": 233,
   "id": "c0507494",
   "metadata": {},
   "outputs": [
    {
     "data": {
      "text/plain": [
       "{'BabyPink', 'pink', 'red', 'white', 'yellow'}"
      ]
     },
     "execution_count": 233,
     "metadata": {},
     "output_type": "execute_result"
    }
   ],
   "source": [
    "color"
   ]
  },
  {
   "cell_type": "code",
   "execution_count": 234,
   "id": "4988dae4",
   "metadata": {},
   "outputs": [
    {
     "name": "stdout",
     "output_type": "stream",
     "text": [
      "{'BabyPink', 'yellow', 'pink', 'white', 'red'}\n"
     ]
    }
   ],
   "source": [
    "print(color)"
   ]
  },
  {
   "cell_type": "code",
   "execution_count": 235,
   "id": "9ad34f52",
   "metadata": {},
   "outputs": [],
   "source": [
    "#appending/update\n",
    "num={6,4,9}\n",
    "color.update(num)"
   ]
  },
  {
   "cell_type": "code",
   "execution_count": 236,
   "id": "9651178f",
   "metadata": {},
   "outputs": [
    {
     "data": {
      "text/plain": [
       "{4, 6, 9, 'BabyPink', 'pink', 'red', 'white', 'yellow'}"
      ]
     },
     "execution_count": 236,
     "metadata": {},
     "output_type": "execute_result"
    }
   ],
   "source": [
    "color"
   ]
  },
  {
   "cell_type": "code",
   "execution_count": 237,
   "id": "8ffd3c5e",
   "metadata": {},
   "outputs": [
    {
     "name": "stdout",
     "output_type": "stream",
     "text": [
      "{4, 6, 'BabyPink', 9, 'yellow', 'pink', 'white', 'red'}\n"
     ]
    }
   ],
   "source": [
    "print(color)"
   ]
  },
  {
   "cell_type": "code",
   "execution_count": 238,
   "id": "f3792373",
   "metadata": {},
   "outputs": [],
   "source": [
    "#removing items\n",
    "color.remove(\"BabyPink\")"
   ]
  },
  {
   "cell_type": "raw",
   "id": "dcb10794",
   "metadata": {},
   "source": [
    "color"
   ]
  },
  {
   "cell_type": "code",
   "execution_count": 239,
   "id": "706b091d",
   "metadata": {},
   "outputs": [
    {
     "data": {
      "text/plain": [
       "{4, 6, 9, 'pink', 'red', 'white', 'yellow'}"
      ]
     },
     "execution_count": 239,
     "metadata": {},
     "output_type": "execute_result"
    }
   ],
   "source": [
    "color"
   ]
  },
  {
   "cell_type": "code",
   "execution_count": 240,
   "id": "1b86b1bd",
   "metadata": {},
   "outputs": [
    {
     "data": {
      "text/plain": [
       "{4, 6, 9, 'pink', 'white', 'yellow'}"
      ]
     },
     "execution_count": 240,
     "metadata": {},
     "output_type": "execute_result"
    }
   ],
   "source": [
    "color.discard(\"red\")\n",
    "color"
   ]
  },
  {
   "cell_type": "code",
   "execution_count": 241,
   "id": "0c46b717",
   "metadata": {},
   "outputs": [],
   "source": [
    "#union()- create a new set with combining multiple sets"
   ]
  },
  {
   "cell_type": "code",
   "execution_count": 242,
   "id": "72a768b8",
   "metadata": {},
   "outputs": [],
   "source": [
    "set1=color.union(num)"
   ]
  },
  {
   "cell_type": "code",
   "execution_count": 243,
   "id": "8703a094",
   "metadata": {},
   "outputs": [
    {
     "data": {
      "text/plain": [
       "{4, 6, 9, 'pink', 'white', 'yellow'}"
      ]
     },
     "execution_count": 243,
     "metadata": {},
     "output_type": "execute_result"
    }
   ],
   "source": [
    "set1"
   ]
  },
  {
   "cell_type": "code",
   "execution_count": 244,
   "id": "45dae1ad",
   "metadata": {},
   "outputs": [
    {
     "name": "stdout",
     "output_type": "stream",
     "text": [
      "16\n"
     ]
    }
   ],
   "source": [
    "num=[2,3,5,6]\n",
    "sum=0\n",
    "for x in num:\n",
    "    sum+=x\n",
    "print(sum)"
   ]
  },
  {
   "cell_type": "code",
   "execution_count": 249,
   "id": "12155e40",
   "metadata": {},
   "outputs": [
    {
     "name": "stdout",
     "output_type": "stream",
     "text": [
      "Enter color for search:red\n",
      "value found !!!!!\n"
     ]
    }
   ],
   "source": [
    "color={\"red\",\"blue\",\"green\"}\n",
    "a=str(input(\"Enter color for search:\"))\n",
    "if (a in color):\n",
    "    print(\"value found !!!!!\")\n",
    "else:\n",
    "    print(\"value not found\")"
   ]
  },
  {
   "cell_type": "code",
   "execution_count": 250,
   "id": "7bb9ac13",
   "metadata": {},
   "outputs": [
    {
     "name": "stdout",
     "output_type": "stream",
     "text": [
      "Enter color for search:blue\n",
      "Value Found!!\n"
     ]
    }
   ],
   "source": [
    "color={\"red\",\"blue\",\"green\"}\n",
    "a=input(\"Enter color for search:\")\n",
    "flg=False\n",
    "for x in color:\n",
    "    if (x==a):\n",
    "        flg=True\n",
    "if (flg==True):\n",
    "    print(\"Value Found!!\")\n",
    "else:\n",
    "    print(\"Value not Found!\")"
   ]
  },
  {
   "cell_type": "markdown",
   "id": "689788dd",
   "metadata": {},
   "source": [
    "*****************************DICTIONARY********************************\n",
    "Used for mapping data types\n",
    "used for storing multiples values in single variable\n",
    "allows us to store the values in key value pair\n",
    "is a collection which is ordered ,changeable,not allowed duplicates\n"
   ]
  },
  {
   "cell_type": "code",
   "execution_count": 251,
   "id": "5c1327d6",
   "metadata": {},
   "outputs": [],
   "source": [
    "dict1={\"fruits\":[\"apple\",\"kiwi\"],\"color\":[\"red\",\"pink\"]}"
   ]
  },
  {
   "cell_type": "code",
   "execution_count": 252,
   "id": "dba699f4",
   "metadata": {},
   "outputs": [
    {
     "data": {
      "text/plain": [
       "{'fruits': ['apple', 'kiwi'], 'color': ['red', 'pink']}"
      ]
     },
     "execution_count": 252,
     "metadata": {},
     "output_type": "execute_result"
    }
   ],
   "source": [
    "dict1"
   ]
  },
  {
   "cell_type": "code",
   "execution_count": 255,
   "id": "827708fd",
   "metadata": {},
   "outputs": [
    {
     "name": "stdout",
     "output_type": "stream",
     "text": [
      "{'model': 'Maruti', 'year': 2000, 'price': 1900000}\n",
      "<class 'dict'>\n",
      "3\n"
     ]
    }
   ],
   "source": [
    "car={\n",
    "    \"model\":\"Maruti\",\n",
    "    \"year\":2000,\n",
    "    \"price\":1900000\n",
    "}\n",
    "print(car)\n",
    "print(type(car))\n",
    "print(len(car))"
   ]
  },
  {
   "cell_type": "code",
   "execution_count": 258,
   "id": "dc2f9bcd",
   "metadata": {},
   "outputs": [
    {
     "data": {
      "text/plain": [
       "'Maruti'"
      ]
     },
     "execution_count": 258,
     "metadata": {},
     "output_type": "execute_result"
    }
   ],
   "source": [
    "x=car[\"model\"]\n",
    "x"
   ]
  },
  {
   "cell_type": "code",
   "execution_count": 259,
   "id": "25c3e839",
   "metadata": {},
   "outputs": [
    {
     "data": {
      "text/plain": [
       "2000"
      ]
     },
     "execution_count": 259,
     "metadata": {},
     "output_type": "execute_result"
    }
   ],
   "source": [
    "y=car.get(\"year\")\n",
    "y"
   ]
  },
  {
   "cell_type": "code",
   "execution_count": 261,
   "id": "1358dd41",
   "metadata": {},
   "outputs": [
    {
     "data": {
      "text/plain": [
       "dict_keys(['model', 'year', 'price'])"
      ]
     },
     "execution_count": 261,
     "metadata": {},
     "output_type": "execute_result"
    }
   ],
   "source": [
    "#keys is the method which will return the list of all keys in the dictionary\n",
    "v=car.keys()\n",
    "v"
   ]
  },
  {
   "cell_type": "code",
   "execution_count": 265,
   "id": "e34a64e0",
   "metadata": {},
   "outputs": [
    {
     "data": {
      "text/plain": [
       "dict_values(['Maruti', 2000, 1900000])"
      ]
     },
     "execution_count": 265,
     "metadata": {},
     "output_type": "execute_result"
    }
   ],
   "source": [
    "# values is the method which will return the list of all values in the dictonary\n",
    "w=car.values()\n",
    "w"
   ]
  },
  {
   "cell_type": "raw",
   "id": "a1e65819",
   "metadata": {},
   "source": []
  },
  {
   "cell_type": "code",
   "execution_count": 264,
   "id": "d1644f0a",
   "metadata": {},
   "outputs": [
    {
     "data": {
      "text/plain": [
       "dict_items([('model', 'Maruti'), ('year', 2000), ('price', 1900000)])"
      ]
     },
     "execution_count": 264,
     "metadata": {},
     "output_type": "execute_result"
    }
   ],
   "source": [
    "m=car.items()\n",
    "m"
   ]
  },
  {
   "cell_type": "code",
   "execution_count": 266,
   "id": "f8447501",
   "metadata": {},
   "outputs": [],
   "source": [
    "car[\"color\"]=\"red\""
   ]
  },
  {
   "cell_type": "code",
   "execution_count": 267,
   "id": "66924a87",
   "metadata": {},
   "outputs": [
    {
     "data": {
      "text/plain": [
       "{'model': 'Maruti', 'year': 2000, 'price': 1900000, 'color': 'red'}"
      ]
     },
     "execution_count": 267,
     "metadata": {},
     "output_type": "execute_result"
    }
   ],
   "source": [
    "car"
   ]
  },
  {
   "cell_type": "code",
   "execution_count": 268,
   "id": "aa31bd40",
   "metadata": {},
   "outputs": [
    {
     "data": {
      "text/plain": [
       "dict_items([('model', 'Maruti'), ('year', 2000), ('price', 1900000), ('color', 'red')])"
      ]
     },
     "execution_count": 268,
     "metadata": {},
     "output_type": "execute_result"
    }
   ],
   "source": [
    "m=car.items()\n",
    "m"
   ]
  },
  {
   "cell_type": "code",
   "execution_count": 272,
   "id": "ae27c359",
   "metadata": {},
   "outputs": [
    {
     "name": "stdout",
     "output_type": "stream",
     "text": [
      "model\n",
      "Maruti\n",
      "year\n",
      "2000\n",
      "price\n",
      "1900000\n",
      "color\n",
      "red\n"
     ]
    }
   ],
   "source": [
    "for d in car:\n",
    "    print(d)\n",
    "    print(car[d])"
   ]
  },
  {
   "cell_type": "code",
   "execution_count": 274,
   "id": "f0dcb21c",
   "metadata": {},
   "outputs": [
    {
     "data": {
      "text/plain": [
       "{'name': 'abc', 'address': 'pune', 'year': 1996}"
      ]
     },
     "execution_count": 274,
     "metadata": {},
     "output_type": "execute_result"
    }
   ],
   "source": [
    "school= {\n",
    "    \"name\":\"abc\",\n",
    "    \"address\":\"pune\",\n",
    "    \"year\":1996\n",
    "}\n",
    "school"
   ]
  },
  {
   "cell_type": "code",
   "execution_count": 285,
   "id": "9eb5c484",
   "metadata": {},
   "outputs": [],
   "source": [
    "school[\"year\"]=2000"
   ]
  },
  {
   "cell_type": "code",
   "execution_count": 276,
   "id": "f6334e95",
   "metadata": {},
   "outputs": [
    {
     "data": {
      "text/plain": [
       "{'name': 'abc', 'address': 'pune', 'year': 2000}"
      ]
     },
     "execution_count": 276,
     "metadata": {},
     "output_type": "execute_result"
    }
   ],
   "source": [
    "school"
   ]
  },
  {
   "cell_type": "code",
   "execution_count": 277,
   "id": "00c4c5c1",
   "metadata": {},
   "outputs": [],
   "source": [
    "#change/update\n",
    "school.update({\"name\":\"xyz\"})"
   ]
  },
  {
   "cell_type": "code",
   "execution_count": 284,
   "id": "186b32b4",
   "metadata": {},
   "outputs": [
    {
     "data": {
      "text/plain": [
       "{'name': 'xyz', 'address': 'pune', 'phone': 99999999}"
      ]
     },
     "execution_count": 284,
     "metadata": {},
     "output_type": "execute_result"
    }
   ],
   "source": [
    "school"
   ]
  },
  {
   "cell_type": "code",
   "execution_count": 279,
   "id": "7dcbd4d8",
   "metadata": {},
   "outputs": [],
   "source": [
    "#ADD DICTIONARY ITEM\n",
    "school[\"phone\"]=99999999\n",
    "school\n"
   ]
  },
  {
   "cell_type": "code",
   "execution_count": 286,
   "id": "1d0fc137",
   "metadata": {},
   "outputs": [
    {
     "data": {
      "text/plain": [
       "{'name': 'xyz', 'address': 'pune', 'phone': 99999999}"
      ]
     },
     "execution_count": 286,
     "metadata": {},
     "output_type": "execute_result"
    }
   ],
   "source": [
    "# REMOVE ITEM\n",
    "school.pop(\"year\")\n",
    "school"
   ]
  },
  {
   "cell_type": "code",
   "execution_count": 287,
   "id": "37032959",
   "metadata": {},
   "outputs": [],
   "source": [
    "dict1.clear()"
   ]
  },
  {
   "cell_type": "code",
   "execution_count": 288,
   "id": "1580a561",
   "metadata": {},
   "outputs": [
    {
     "data": {
      "text/plain": [
       "{}"
      ]
     },
     "execution_count": 288,
     "metadata": {},
     "output_type": "execute_result"
    }
   ],
   "source": [
    "dict1"
   ]
  },
  {
   "cell_type": "code",
   "execution_count": 290,
   "id": "5b4a545d",
   "metadata": {},
   "outputs": [
    {
     "data": {
      "text/plain": [
       "{'name': 'xyz', 'address': 'pune', 'phone': 99999999}"
      ]
     },
     "execution_count": 290,
     "metadata": {},
     "output_type": "execute_result"
    }
   ],
   "source": [
    "sc=school.copy()\n",
    "sc"
   ]
  },
  {
   "cell_type": "code",
   "execution_count": null,
   "id": "bcc8ee0d",
   "metadata": {},
   "outputs": [],
   "source": []
  }
 ],
 "metadata": {
  "kernelspec": {
   "display_name": "Python 3",
   "language": "python",
   "name": "python3"
  },
  "language_info": {
   "codemirror_mode": {
    "name": "ipython",
    "version": 3
   },
   "file_extension": ".py",
   "mimetype": "text/x-python",
   "name": "python",
   "nbconvert_exporter": "python",
   "pygments_lexer": "ipython3",
   "version": "3.8.8"
  }
 },
 "nbformat": 4,
 "nbformat_minor": 5
}
