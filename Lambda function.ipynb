{
 "cells": [
  {
   "cell_type": "markdown",
   "id": "755ac1e3",
   "metadata": {},
   "source": [
    "Python anonymous function is a function that is defined without a name\n",
    "while normal funct are defined using the def keyword ,in python anonymous functions are defined using the lambda keyword.\n",
    "syntax:\n",
    "    lambda arguments:expression"
   ]
  },
  {
   "cell_type": "code",
   "execution_count": 3,
   "id": "ec01d84d",
   "metadata": {},
   "outputs": [
    {
     "data": {
      "text/plain": [
       "'\"\"lamda function can have any no.of arguments but only one expression.\\nthe expre is evaulated and returned .\\nlmbda functions can be used wherever function object are required\\n#ex:\\n    double=lamda x=x*2\\n    print(double)'"
      ]
     },
     "execution_count": 3,
     "metadata": {},
     "output_type": "execute_result"
    }
   ],
   "source": [
    "\"\"\"\"\"lamda function can have any no.of arguments but only one expression.\n",
    "the expre is evaulated and returned .\n",
    "lmbda functions can be used wherever function object are required\n",
    "#ex:\n",
    "    double=lamda x=x*2\n",
    "    print(double)\"\"\"\"\""
   ]
  },
  {
   "cell_type": "code",
   "execution_count": 7,
   "id": "7c68c066",
   "metadata": {},
   "outputs": [
    {
     "name": "stdout",
     "output_type": "stream",
     "text": [
      "12\n"
     ]
    }
   ],
   "source": [
    "x= lambda a,b:a*b\n",
    "print(x(3,4))"
   ]
  },
  {
   "cell_type": "code",
   "execution_count": 8,
   "id": "e972c3e8",
   "metadata": {},
   "outputs": [
    {
     "name": "stdout",
     "output_type": "stream",
     "text": [
      "10\n"
     ]
    }
   ],
   "source": [
    "y= lambda a,b,c:a+b+c\n",
    "print(y(5,3,2))"
   ]
  },
  {
   "cell_type": "markdown",
   "id": "2ec53bcf",
   "metadata": {},
   "source": [
    "#assignment:\n",
    "area of circle and all using lamda\n",
    "    WAP for generating fibonacci series using function(first term(ft) is alw 0 and second term(st) always 1 third term=ft+st)\n",
    "o/p \n",
    "0 1 1 2  3 5  8"
   ]
  },
  {
   "cell_type": "code",
   "execution_count": null,
   "id": "b02cba07",
   "metadata": {},
   "outputs": [],
   "source": []
  }
 ],
 "metadata": {
  "kernelspec": {
   "display_name": "Python 3",
   "language": "python",
   "name": "python3"
  },
  "language_info": {
   "codemirror_mode": {
    "name": "ipython",
    "version": 3
   },
   "file_extension": ".py",
   "mimetype": "text/x-python",
   "name": "python",
   "nbconvert_exporter": "python",
   "pygments_lexer": "ipython3",
   "version": "3.8.8"
  }
 },
 "nbformat": 4,
 "nbformat_minor": 5
}
