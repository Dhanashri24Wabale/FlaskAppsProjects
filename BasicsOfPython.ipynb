{
 "cells": [
  {
   "cell_type": "code",
   "execution_count": 1,
   "id": "85c624d9",
   "metadata": {},
   "outputs": [
    {
     "data": {
      "text/plain": [
       "'Hello'"
      ]
     },
     "execution_count": 1,
     "metadata": {},
     "output_type": "execute_result"
    }
   ],
   "source": [
    "\"Hello\"\n"
   ]
  },
  {
   "cell_type": "code",
   "execution_count": 2,
   "id": "37bb36bf",
   "metadata": {},
   "outputs": [
    {
     "data": {
      "text/plain": [
       "'Hello'"
      ]
     },
     "execution_count": 2,
     "metadata": {},
     "output_type": "execute_result"
    }
   ],
   "source": [
    "'Hello'"
   ]
  },
  {
   "cell_type": "code",
   "execution_count": 3,
   "id": "4121c9ca",
   "metadata": {},
   "outputs": [
    {
     "data": {
      "text/plain": [
       "str"
      ]
     },
     "execution_count": 3,
     "metadata": {},
     "output_type": "execute_result"
    }
   ],
   "source": [
    "type('Hello')"
   ]
  },
  {
   "cell_type": "code",
   "execution_count": 4,
   "id": "e0e5e1e0",
   "metadata": {},
   "outputs": [
    {
     "data": {
      "text/plain": [
       "str"
      ]
     },
     "execution_count": 4,
     "metadata": {},
     "output_type": "execute_result"
    }
   ],
   "source": [
    "type(\"Hello\")"
   ]
  },
  {
   "cell_type": "code",
   "execution_count": 5,
   "id": "2ed5d739",
   "metadata": {},
   "outputs": [],
   "source": [
    "a=10"
   ]
  },
  {
   "cell_type": "code",
   "execution_count": 6,
   "id": "009202e8",
   "metadata": {},
   "outputs": [],
   "source": [
    "a=10\n",
    "b=20"
   ]
  },
  {
   "cell_type": "code",
   "execution_count": 7,
   "id": "fe967b55",
   "metadata": {},
   "outputs": [
    {
     "name": "stdout",
     "output_type": "stream",
     "text": [
      "200.5\n",
      "30\n"
     ]
    }
   ],
   "source": [
    "#BODMAS Rule-bracket,off,division,multiplication,addition,substraction\n",
    "\n",
    "print((a/b)+(a*b))\n",
    "print(a+b)"
   ]
  },
  {
   "cell_type": "code",
   "execution_count": 8,
   "id": "3d0ccff9",
   "metadata": {},
   "outputs": [
    {
     "name": "stdout",
     "output_type": "stream",
     "text": [
      "Hello\n"
     ]
    }
   ],
   "source": [
    "#enter shift tab to get the exact meaning of print\n",
    "print(\"Hello\")"
   ]
  },
  {
   "cell_type": "code",
   "execution_count": 9,
   "id": "70914ef7",
   "metadata": {},
   "outputs": [],
   "source": [
    "first_name='Dhanashri'\n",
    "last_name='Wabale'"
   ]
  },
  {
   "cell_type": "code",
   "execution_count": 10,
   "id": "f6e95f4c",
   "metadata": {},
   "outputs": [
    {
     "name": "stdout",
     "output_type": "stream",
     "text": [
      "My first name is Dhanashri and my last name is Wabale\n"
     ]
    }
   ],
   "source": [
    "print(\"My first name is {} and my last name is {}\".format(first_name,last_name))"
   ]
  },
  {
   "cell_type": "code",
   "execution_count": 12,
   "id": "1cf64f7b",
   "metadata": {},
   "outputs": [
    {
     "name": "stdout",
     "output_type": "stream",
     "text": [
      "My first name is Dhanashri and my last name is Wabale\n"
     ]
    }
   ],
   "source": [
    "print(\"My first name is {first} and my last name is {last}\".format(last=last_name,first=first_name))"
   ]
  },
  {
   "cell_type": "code",
   "execution_count": 13,
   "id": "cbe13bf5",
   "metadata": {},
   "outputs": [
    {
     "data": {
      "text/plain": [
       "9"
      ]
     },
     "execution_count": 13,
     "metadata": {},
     "output_type": "execute_result"
    }
   ],
   "source": [
    "len(\"Dhanashri\")"
   ]
  },
  {
   "cell_type": "code",
   "execution_count": 14,
   "id": "fbafa72e",
   "metadata": {},
   "outputs": [
    {
     "data": {
      "text/plain": [
       "bool"
      ]
     },
     "execution_count": 14,
     "metadata": {},
     "output_type": "execute_result"
    }
   ],
   "source": [
    "bool"
   ]
  },
  {
   "cell_type": "code",
   "execution_count": 19,
   "id": "9f6198a0",
   "metadata": {},
   "outputs": [],
   "source": [
    "my_str=\"Dhanashri Wabale\""
   ]
  },
  {
   "cell_type": "code",
   "execution_count": 20,
   "id": "dc6849be",
   "metadata": {},
   "outputs": [
    {
     "data": {
      "text/plain": [
       "False"
      ]
     },
     "execution_count": 20,
     "metadata": {},
     "output_type": "execute_result"
    }
   ],
   "source": [
    "my_str.isalnum()"
   ]
  },
  {
   "cell_type": "code",
   "execution_count": 21,
   "id": "69f0c8d8",
   "metadata": {},
   "outputs": [
    {
     "data": {
      "text/plain": [
       "True"
      ]
     },
     "execution_count": 21,
     "metadata": {},
     "output_type": "execute_result"
    }
   ],
   "source": [
    "my_str.istitle()"
   ]
  },
  {
   "cell_type": "code",
   "execution_count": 22,
   "id": "aa0900d2",
   "metadata": {},
   "outputs": [
    {
     "data": {
      "text/plain": [
       "False"
      ]
     },
     "execution_count": 22,
     "metadata": {},
     "output_type": "execute_result"
    }
   ],
   "source": [
    "my_str.islower()"
   ]
  },
  {
   "cell_type": "code",
   "execution_count": 23,
   "id": "d23291b3",
   "metadata": {},
   "outputs": [
    {
     "data": {
      "text/plain": [
       "False"
      ]
     },
     "execution_count": 23,
     "metadata": {},
     "output_type": "execute_result"
    }
   ],
   "source": [
    "my_str.isupper()"
   ]
  },
  {
   "cell_type": "code",
   "execution_count": 24,
   "id": "6fb36909",
   "metadata": {},
   "outputs": [
    {
     "data": {
      "text/plain": [
       "True"
      ]
     },
     "execution_count": 24,
     "metadata": {},
     "output_type": "execute_result"
    }
   ],
   "source": [
    "True and True"
   ]
  },
  {
   "cell_type": "code",
   "execution_count": 25,
   "id": "1872af7f",
   "metadata": {},
   "outputs": [
    {
     "data": {
      "text/plain": [
       "False"
      ]
     },
     "execution_count": 25,
     "metadata": {},
     "output_type": "execute_result"
    }
   ],
   "source": [
    "True and False"
   ]
  },
  {
   "cell_type": "code",
   "execution_count": 26,
   "id": "3e9247a8",
   "metadata": {},
   "outputs": [
    {
     "data": {
      "text/plain": [
       "False"
      ]
     },
     "execution_count": 26,
     "metadata": {},
     "output_type": "execute_result"
    }
   ],
   "source": [
    "False and False"
   ]
  },
  {
   "cell_type": "code",
   "execution_count": 27,
   "id": "d21ccad6",
   "metadata": {},
   "outputs": [
    {
     "data": {
      "text/plain": [
       "False"
      ]
     },
     "execution_count": 27,
     "metadata": {},
     "output_type": "execute_result"
    }
   ],
   "source": [
    "my_str.isalpha()"
   ]
  },
  {
   "cell_type": "code",
   "execution_count": 34,
   "id": "16cfd859",
   "metadata": {},
   "outputs": [],
   "source": [
    "myl1=[1,2,3]"
   ]
  },
  {
   "cell_type": "code",
   "execution_count": 36,
   "id": "9958841d",
   "metadata": {},
   "outputs": [
    {
     "data": {
      "text/plain": [
       "[1, 2, 3]"
      ]
     },
     "execution_count": 36,
     "metadata": {},
     "output_type": "execute_result"
    }
   ],
   "source": [
    "myl1"
   ]
  },
  {
   "cell_type": "code",
   "execution_count": 37,
   "id": "b422a80a",
   "metadata": {},
   "outputs": [],
   "source": [
    "#empty list\n",
    "l1=[]\n",
    "l2=list()"
   ]
  },
  {
   "cell_type": "markdown",
   "id": "65655239",
   "metadata": {},
   "source": []
  },
  {
   "cell_type": "code",
   "execution_count": 40,
   "id": "2f6c9e9d",
   "metadata": {},
   "outputs": [],
   "source": [
    "#append at the end of list\n",
    "myl1.append(\"55ll\")"
   ]
  },
  {
   "cell_type": "code",
   "execution_count": 41,
   "id": "f7a5bfd1",
   "metadata": {},
   "outputs": [
    {
     "data": {
      "text/plain": [
       "[1, 2, 3, '55ll', '55ll']"
      ]
     },
     "execution_count": 41,
     "metadata": {},
     "output_type": "execute_result"
    }
   ],
   "source": [
    "myl1"
   ]
  },
  {
   "cell_type": "code",
   "execution_count": null,
   "id": "b92095d2",
   "metadata": {},
   "outputs": [],
   "source": []
  },
  {
   "cell_type": "code",
   "execution_count": 44,
   "id": "3f12e823",
   "metadata": {},
   "outputs": [],
   "source": [
    "#insert at any index\n",
    "myl1.insert(1,\"hhh\")"
   ]
  },
  {
   "cell_type": "code",
   "execution_count": 45,
   "id": "638df67e",
   "metadata": {},
   "outputs": [
    {
     "data": {
      "text/plain": [
       "[1, 'hhh', 'hhh', 2, 3, '55ll', '55ll']"
      ]
     },
     "execution_count": 45,
     "metadata": {},
     "output_type": "execute_result"
    }
   ],
   "source": [
    "myl1"
   ]
  },
  {
   "cell_type": "code",
   "execution_count": 46,
   "id": "b408ecaf",
   "metadata": {},
   "outputs": [
    {
     "data": {
      "text/plain": [
       "[1, 'hhh', 'hhh', 2, 3, '55ll', '55ll']"
      ]
     },
     "execution_count": 46,
     "metadata": {},
     "output_type": "execute_result"
    }
   ],
   "source": [
    "myl1[:]"
   ]
  },
  {
   "cell_type": "code",
   "execution_count": 48,
   "id": "1f72409a",
   "metadata": {},
   "outputs": [
    {
     "data": {
      "text/plain": [
       "[1, 'hhh', 'hhh']"
      ]
     },
     "execution_count": 48,
     "metadata": {},
     "output_type": "execute_result"
    }
   ],
   "source": [
    "myl1[:3]"
   ]
  },
  {
   "cell_type": "markdown",
   "id": "888e195a",
   "metadata": {},
   "source": [
    "myl1[:3]"
   ]
  },
  {
   "cell_type": "code",
   "execution_count": 49,
   "id": "e0b5ff2d",
   "metadata": {},
   "outputs": [
    {
     "data": {
      "text/plain": [
       "['hhh', 'hhh']"
      ]
     },
     "execution_count": 49,
     "metadata": {},
     "output_type": "execute_result"
    }
   ],
   "source": [
    "myl1[1:3]"
   ]
  },
  {
   "cell_type": "code",
   "execution_count": 50,
   "id": "ad798b06",
   "metadata": {},
   "outputs": [
    {
     "data": {
      "text/plain": [
       "[2, 3, '55ll', '55ll']"
      ]
     },
     "execution_count": 50,
     "metadata": {},
     "output_type": "execute_result"
    }
   ],
   "source": [
    "myl1[3:]"
   ]
  },
  {
   "cell_type": "code",
   "execution_count": 51,
   "id": "13494cd0",
   "metadata": {},
   "outputs": [],
   "source": [
    "#empty set\n",
    "\n",
    "set_var=set()"
   ]
  },
  {
   "cell_type": "code",
   "execution_count": 54,
   "id": "956bfe49",
   "metadata": {},
   "outputs": [],
   "source": [
    "set_var={'AVENGERS','IRONMAN','HITMAN'}"
   ]
  },
  {
   "cell_type": "code",
   "execution_count": 55,
   "id": "e41bae3c",
   "metadata": {},
   "outputs": [
    {
     "data": {
      "text/plain": [
       "{'AVENGERS', 'HITMAN', 'IRONMAN'}"
      ]
     },
     "execution_count": 55,
     "metadata": {},
     "output_type": "execute_result"
    }
   ],
   "source": [
    "set_var"
   ]
  },
  {
   "cell_type": "code",
   "execution_count": 56,
   "id": "85f495eb",
   "metadata": {},
   "outputs": [],
   "source": [
    "set_var.add(\"HULK\")"
   ]
  },
  {
   "cell_type": "code",
   "execution_count": 57,
   "id": "10b59132",
   "metadata": {},
   "outputs": [
    {
     "data": {
      "text/plain": [
       "{'AVENGERS', 'HITMAN', 'HULK', 'IRONMAN'}"
      ]
     },
     "execution_count": 57,
     "metadata": {},
     "output_type": "execute_result"
    }
   ],
   "source": [
    "set_var"
   ]
  },
  {
   "cell_type": "code",
   "execution_count": 58,
   "id": "c70af14b",
   "metadata": {},
   "outputs": [],
   "source": [
    "set1={\"hhh\",\"llll\",\"jjjj\",\"ppp\"}"
   ]
  },
  {
   "cell_type": "code",
   "execution_count": 59,
   "id": "4539761e",
   "metadata": {},
   "outputs": [],
   "source": [
    "set2={\"hhh\",\"llll\",\"hhghg\",\"ppp\"}"
   ]
  },
  {
   "cell_type": "code",
   "execution_count": 61,
   "id": "fc2cb341",
   "metadata": {},
   "outputs": [
    {
     "data": {
      "text/plain": [
       "{'hhh', 'llll', 'ppp'}"
      ]
     },
     "execution_count": 61,
     "metadata": {},
     "output_type": "execute_result"
    }
   ],
   "source": [
    "set2.intersection(set1)"
   ]
  },
  {
   "cell_type": "code",
   "execution_count": 62,
   "id": "4781d4ad",
   "metadata": {},
   "outputs": [
    {
     "data": {
      "text/plain": [
       "{'hhghg', 'hhh', 'llll', 'ppp'}"
      ]
     },
     "execution_count": 62,
     "metadata": {},
     "output_type": "execute_result"
    }
   ],
   "source": [
    "set2"
   ]
  },
  {
   "cell_type": "code",
   "execution_count": 63,
   "id": "eb06bcbe",
   "metadata": {},
   "outputs": [],
   "source": [
    "set2.intersection_update(set1)"
   ]
  },
  {
   "cell_type": "code",
   "execution_count": 64,
   "id": "5c90d539",
   "metadata": {},
   "outputs": [
    {
     "data": {
      "text/plain": [
       "{'hhh', 'llll', 'ppp'}"
      ]
     },
     "execution_count": 64,
     "metadata": {},
     "output_type": "execute_result"
    }
   ],
   "source": [
    "set2"
   ]
  },
  {
   "cell_type": "code",
   "execution_count": 68,
   "id": "78aabc7d",
   "metadata": {},
   "outputs": [
    {
     "ename": "TypeError",
     "evalue": "'dict' object is not callable",
     "output_type": "error",
     "traceback": [
      "\u001b[1;31m---------------------------------------------------------------------------\u001b[0m",
      "\u001b[1;31mTypeError\u001b[0m                                 Traceback (most recent call last)",
      "\u001b[1;32m<ipython-input-68-ccd0bed916ee>\u001b[0m in \u001b[0;36m<module>\u001b[1;34m\u001b[0m\n\u001b[1;32m----> 1\u001b[1;33m \u001b[0mdict1\u001b[0m\u001b[1;33m=\u001b[0m\u001b[0mdict\u001b[0m\u001b[1;33m(\u001b[0m\u001b[1;33m)\u001b[0m\u001b[1;33m\u001b[0m\u001b[1;33m\u001b[0m\u001b[0m\n\u001b[0m",
      "\u001b[1;31mTypeError\u001b[0m: 'dict' object is not callable"
     ]
    }
   ],
   "source": [
    "dict1=dict()"
   ]
  },
  {
   "cell_type": "code",
   "execution_count": 69,
   "id": "341b4fad",
   "metadata": {},
   "outputs": [],
   "source": [
    "dict={}"
   ]
  },
  {
   "cell_type": "code",
   "execution_count": 70,
   "id": "c35db56a",
   "metadata": {},
   "outputs": [
    {
     "data": {
      "text/plain": [
       "{}"
      ]
     },
     "execution_count": 70,
     "metadata": {},
     "output_type": "execute_result"
    }
   ],
   "source": [
    "dict"
   ]
  },
  {
   "cell_type": "code",
   "execution_count": 78,
   "id": "22a3e6b2",
   "metadata": {},
   "outputs": [
    {
     "ename": "NameError",
     "evalue": "name 'Audi' is not defined",
     "output_type": "error",
     "traceback": [
      "\u001b[1;31m---------------------------------------------------------------------------\u001b[0m",
      "\u001b[1;31mNameError\u001b[0m                                 Traceback (most recent call last)",
      "\u001b[1;32m<ipython-input-78-390c3e8491ee>\u001b[0m in \u001b[0;36m<module>\u001b[1;34m\u001b[0m\n\u001b[1;32m----> 1\u001b[1;33m \u001b[0mdict1\u001b[0m\u001b[1;33m=\u001b[0m\u001b[1;33m{\u001b[0m\u001b[1;34m\"car\"\u001b[0m\u001b[1;33m:\u001b[0m\u001b[0mAudi\u001b[0m\u001b[1;33m,\u001b[0m\u001b[1;34m\"col\"\u001b[0m\u001b[1;33m:\u001b[0m\u001b[1;34m\"Red\"\u001b[0m\u001b[1;33m,\u001b[0m\u001b[1;34m\"car2\"\u001b[0m\u001b[1;33m:\u001b[0m\u001b[1;34m\"bmW\"\u001b[0m\u001b[1;33m}\u001b[0m\u001b[1;33m\u001b[0m\u001b[1;33m\u001b[0m\u001b[0m\n\u001b[0m",
      "\u001b[1;31mNameError\u001b[0m: name 'Audi' is not defined"
     ]
    }
   ],
   "source": [
    "dict1={\"car\":\"Audi\",\"col\":\"Red\",\"car2\":\"bmW\"}"
   ]
  },
  {
   "cell_type": "code",
   "execution_count": 72,
   "id": "927210f8",
   "metadata": {},
   "outputs": [
    {
     "data": {
      "text/plain": [
       "{'car': 'Audi', 'col': 'Red', 'car2': 'bmW'}"
      ]
     },
     "execution_count": 72,
     "metadata": {},
     "output_type": "execute_result"
    }
   ],
   "source": [
    "dict1"
   ]
  },
  {
   "cell_type": "code",
   "execution_count": 74,
   "id": "1fe55e32",
   "metadata": {},
   "outputs": [
    {
     "name": "stdout",
     "output_type": "stream",
     "text": [
      "car\n",
      "col\n",
      "car2\n"
     ]
    }
   ],
   "source": [
    "for x in dict1:\n",
    "    print(x)"
   ]
  },
  {
   "cell_type": "code",
   "execution_count": 75,
   "id": "36019fce",
   "metadata": {},
   "outputs": [
    {
     "name": "stdout",
     "output_type": "stream",
     "text": [
      "Audi\n",
      "Red\n",
      "bmW\n"
     ]
    }
   ],
   "source": [
    "for x in dict1.values():\n",
    "    print(x)"
   ]
  },
  {
   "cell_type": "code",
   "execution_count": 77,
   "id": "7f29de7e",
   "metadata": {},
   "outputs": [
    {
     "name": "stdout",
     "output_type": "stream",
     "text": [
      "('car', 'Audi')\n",
      "('col', 'Red')\n",
      "('car2', 'bmW')\n"
     ]
    }
   ],
   "source": [
    "for x in dict1.items():\n",
    "    print(x)"
   ]
  },
  {
   "cell_type": "code",
   "execution_count": null,
   "id": "718ee948",
   "metadata": {},
   "outputs": [],
   "source": []
  }
 ],
 "metadata": {
  "kernelspec": {
   "display_name": "Python 3",
   "language": "python",
   "name": "python3"
  },
  "language_info": {
   "codemirror_mode": {
    "name": "ipython",
    "version": 3
   },
   "file_extension": ".py",
   "mimetype": "text/x-python",
   "name": "python",
   "nbconvert_exporter": "python",
   "pygments_lexer": "ipython3",
   "version": "3.8.8"
  }
 },
 "nbformat": 4,
 "nbformat_minor": 5
}
