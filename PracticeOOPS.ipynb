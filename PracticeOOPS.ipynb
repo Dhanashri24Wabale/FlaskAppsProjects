{
 "cells": [
  {
   "cell_type": "code",
   "execution_count": 7,
   "id": "b6d512ef",
   "metadata": {},
   "outputs": [],
   "source": [
    "##Creating the Phone Class\n",
    "class Phone:\n",
    "    def make_call(self):  # self is used to invoke inbuild parameters  through the object\n",
    "        print(\"Making Call\")\n",
    "    def play_game(self):\n",
    "        print(\"Playing Game\")\n"
   ]
  },
  {
   "cell_type": "code",
   "execution_count": 8,
   "id": "90289549",
   "metadata": {},
   "outputs": [],
   "source": [
    "##Instantiating the 'p1' object\n",
    "p1=Phone()"
   ]
  },
  {
   "cell_type": "code",
   "execution_count": 9,
   "id": "e5fcf56a",
   "metadata": {},
   "outputs": [
    {
     "name": "stdout",
     "output_type": "stream",
     "text": [
      "Making Call\n",
      "Playing Game\n"
     ]
    }
   ],
   "source": [
    "## Invoking Methods through Objects\n",
    "p1.make_call()\n",
    "p1.play_game()"
   ]
  },
  {
   "cell_type": "code",
   "execution_count": 10,
   "id": "a9a3b670",
   "metadata": {},
   "outputs": [],
   "source": [
    "class Phone:\n",
    "    # Setting attributes value\n",
    "    def set_color(self,color):\n",
    "        self.color=color\n",
    "    def set_cost(self,cost):\n",
    "        self.cost=cost\n",
    "        \n",
    "    # Returning attributes value\n",
    "    def show_color(self):\n",
    "        return self.color\n",
    "    def show_cost(self):\n",
    "        return self.cost\n",
    "    \n",
    "    def make_call(self):  # self is used to invoke inbuild parameters  through the object\n",
    "        print(\"Making Call\")\n",
    "    def play_game(self):\n",
    "        print(\"Playing Game\")"
   ]
  },
  {
   "cell_type": "code",
   "execution_count": 11,
   "id": "ffbfd4fc",
   "metadata": {},
   "outputs": [],
   "source": [
    "p2=Phone()"
   ]
  },
  {
   "cell_type": "code",
   "execution_count": 12,
   "id": "2fc9f6eb",
   "metadata": {},
   "outputs": [],
   "source": [
    "p2.set_color(\"Red\")\n"
   ]
  },
  {
   "cell_type": "code",
   "execution_count": 13,
   "id": "361c452d",
   "metadata": {},
   "outputs": [],
   "source": [
    "p2.set_cost(\"100000\")"
   ]
  },
  {
   "cell_type": "code",
   "execution_count": 14,
   "id": "9afd831a",
   "metadata": {},
   "outputs": [
    {
     "data": {
      "text/plain": [
       "'Red'"
      ]
     },
     "execution_count": 14,
     "metadata": {},
     "output_type": "execute_result"
    }
   ],
   "source": [
    "p2.show_color()"
   ]
  },
  {
   "cell_type": "code",
   "execution_count": 15,
   "id": "abd04a07",
   "metadata": {},
   "outputs": [
    {
     "data": {
      "text/plain": [
       "'100000'"
      ]
     },
     "execution_count": 15,
     "metadata": {},
     "output_type": "execute_result"
    }
   ],
   "source": [
    "p2.show_cost()"
   ]
  },
  {
   "cell_type": "code",
   "execution_count": 16,
   "id": "1995c021",
   "metadata": {},
   "outputs": [
    {
     "name": "stdout",
     "output_type": "stream",
     "text": [
      "Making Call\n"
     ]
    }
   ],
   "source": [
    "p2.make_call()"
   ]
  },
  {
   "cell_type": "code",
   "execution_count": 17,
   "id": "b362ecf9",
   "metadata": {},
   "outputs": [
    {
     "name": "stdout",
     "output_type": "stream",
     "text": [
      "Playing Game\n"
     ]
    }
   ],
   "source": [
    "p2.play_game()"
   ]
  },
  {
   "cell_type": "markdown",
   "id": "e549643e",
   "metadata": {},
   "source": [
    "# Creating Class with Constructor"
   ]
  },
  {
   "cell_type": "code",
   "execution_count": 18,
   "id": "04d38744",
   "metadata": {},
   "outputs": [],
   "source": [
    "class Employee:\n",
    "    # in python we can define constructor with the help of init method\n",
    "    def __init__(self,name,age,salary,gender):  # init method acts as the constructor and constructor is special type of method and when we create an object at that time of creation we can assign values to it\n",
    "        \n",
    "        self.name=name\n",
    "        self.age=age\n",
    "        self.salary=salary\n",
    "        self.gender=gender\n",
    "    # NOTE==> all atributes is assigned in one init method only in previous Mobile class we have to assign attributes values in different different functions \n",
    "        \n",
    "    def employee_details(self):\n",
    "        print(\"Name of the employee is:\",self.name)\n",
    "        print(\"Age of the employee is:\",self.age)\n",
    "        print(\"Salary of the employee is:\",self.salary)\n",
    "        print(\"Gender of the employee is:\",self.gender)\n",
    "        \n",
    "        \n",
    "        "
   ]
  },
  {
   "cell_type": "code",
   "execution_count": 19,
   "id": "6c4e3912",
   "metadata": {},
   "outputs": [],
   "source": [
    "e1=Employee(\"dhanu\",25,50000,\"Female\")"
   ]
  },
  {
   "cell_type": "code",
   "execution_count": 22,
   "id": "f90b2d46",
   "metadata": {},
   "outputs": [
    {
     "name": "stdout",
     "output_type": "stream",
     "text": [
      "Name of the employee is: dhanu\n",
      "Age of the employee is: 25\n",
      "Salary of the employee is: 50000\n",
      "Gender of the employee is: Female\n"
     ]
    }
   ],
   "source": [
    "e1.employee_details() # invoking the employee_details method"
   ]
  },
  {
   "cell_type": "markdown",
   "id": "e90ea8aa",
   "metadata": {},
   "source": [
    "# Inhheritance"
   ]
  },
  {
   "cell_type": "code",
   "execution_count": 23,
   "id": "6bcd1ffb",
   "metadata": {},
   "outputs": [],
   "source": [
    "#With the inheritance one class can derive the properties of another class\n",
    "\n",
    "# ex==> Man inheriting features from his father\n",
    "\n"
   ]
  },
  {
   "cell_type": "code",
   "execution_count": 2,
   "id": "53e3048e",
   "metadata": {},
   "outputs": [],
   "source": [
    "# creating the base class\n",
    "class Vehicle:\n",
    "    def __init__(self,mileage,cost):\n",
    "        self.mileage=mileage\n",
    "        self.cost=cost\n",
    "    def show_details(self):\n",
    "        print(\"I am vehicle\")\n",
    "        print(\"Mileage of vehicle is\",self.mileage)\n",
    "        print(\"cost of vehicle is \",self.cost)"
   ]
  },
  {
   "cell_type": "code",
   "execution_count": 25,
   "id": "7da58835",
   "metadata": {},
   "outputs": [],
   "source": [
    "v1=Vehicle(500,5000000)"
   ]
  },
  {
   "cell_type": "code",
   "execution_count": 26,
   "id": "4757dfff",
   "metadata": {},
   "outputs": [
    {
     "name": "stdout",
     "output_type": "stream",
     "text": [
      "I am vehicle\n",
      "Mileage of vehicle is 500\n",
      "cost of vehicle is  5000000\n"
     ]
    }
   ],
   "source": [
    "v1.show_details() # instantiating the object of base class"
   ]
  },
  {
   "cell_type": "code",
   "execution_count": 30,
   "id": "e7600e90",
   "metadata": {},
   "outputs": [],
   "source": [
    "# creating Child class\n",
    "class Car(Vehicle):\n",
    "    def show_car(self):\n",
    "        print(\"I am a car\")"
   ]
  },
  {
   "cell_type": "code",
   "execution_count": 31,
   "id": "384206a0",
   "metadata": {},
   "outputs": [],
   "source": [
    "# instantiating the object for child class\n",
    "c1=Car(300,78999)"
   ]
  },
  {
   "cell_type": "code",
   "execution_count": 32,
   "id": "33dc154a",
   "metadata": {},
   "outputs": [
    {
     "name": "stdout",
     "output_type": "stream",
     "text": [
      "I am vehicle\n",
      "Mileage of vehicle is 300\n",
      "cost of vehicle is  78999\n"
     ]
    }
   ],
   "source": [
    "c1.show_details()"
   ]
  },
  {
   "cell_type": "code",
   "execution_count": 33,
   "id": "29d712ba",
   "metadata": {},
   "outputs": [
    {
     "name": "stdout",
     "output_type": "stream",
     "text": [
      "I am a car\n"
     ]
    }
   ],
   "source": [
    "# invoking the child class method\n",
    "c1.show_car()"
   ]
  },
  {
   "cell_type": "markdown",
   "id": "ae7c0f42",
   "metadata": {},
   "source": [
    "# Over-riding Method in Python"
   ]
  },
  {
   "cell_type": "code",
   "execution_count": 4,
   "id": "1aea3aab",
   "metadata": {},
   "outputs": [],
   "source": [
    "# creating the base class\n",
    "class Vehicle:\n",
    "    def __init__(self,mileage,cost):\n",
    "        self.mileage=mileage\n",
    "        self.cost=cost\n",
    "    def show_details(self):\n",
    "        print(\"I am vehicle\")\n",
    "        print(\"Mileage of vehicle is\",self.mileage)\n",
    "        print(\"cost of vehicle is \",self.cost)"
   ]
  },
  {
   "cell_type": "code",
   "execution_count": 9,
   "id": "53b22126",
   "metadata": {},
   "outputs": [],
   "source": [
    "# over - riding init method\n",
    "class Car(Vehicle):\n",
    "    def __init__(self,mileage,cost,tyres,hp):\n",
    "        super().__init__(mileage,cost)  # with the help of super method we are invoking init method of parent class\n",
    "        self.tyres=tyres\n",
    "        self.hp=hp\n",
    "    def show_car_details(self):\n",
    "        print(\"I am a car\")\n",
    "        print(\"Number of tyres are\",self.tyres)\n",
    "        print(\"value of horse power is\",self.hp)"
   ]
  },
  {
   "cell_type": "code",
   "execution_count": 10,
   "id": "413f1b2d",
   "metadata": {},
   "outputs": [],
   "source": [
    "# invoking show details method from parent class\n",
    "\n",
    "c1=Car(200,300000,4,300)"
   ]
  },
  {
   "cell_type": "code",
   "execution_count": 11,
   "id": "a84ec296",
   "metadata": {},
   "outputs": [
    {
     "name": "stdout",
     "output_type": "stream",
     "text": [
      "I am vehicle\n",
      "Mileage of vehicle is 200\n",
      "cost of vehicle is  300000\n"
     ]
    }
   ],
   "source": [
    "c1.show_details()"
   ]
  },
  {
   "cell_type": "code",
   "execution_count": 12,
   "id": "c3e7c936",
   "metadata": {},
   "outputs": [
    {
     "name": "stdout",
     "output_type": "stream",
     "text": [
      "I am a car\n",
      "Number of tyres are 4\n",
      "value of horse power is 300\n"
     ]
    }
   ],
   "source": [
    "# Invoking show_car_details\n",
    "\n",
    "c1.show_car_details()"
   ]
  },
  {
   "cell_type": "markdown",
   "id": "0f5a7c70",
   "metadata": {},
   "source": [
    "# Types of Inheritance\n",
    "\n",
    "1.Single Inheritance \n",
    "2.Multiple Inheritance \n",
    "3.Multi-level Inheritance\n",
    "4.Hybrid Inheritance"
   ]
  },
  {
   "cell_type": "code",
   "execution_count": 13,
   "id": "f3e4b108",
   "metadata": {},
   "outputs": [],
   "source": [
    "# Multiple inheritance:\n",
    "# Child can inherit from more that one parent class"
   ]
  },
  {
   "cell_type": "code",
   "execution_count": 27,
   "id": "54b76106",
   "metadata": {},
   "outputs": [],
   "source": [
    "class Parent1():\n",
    "    def assign_string_one(self,str1):\n",
    "        self.str1=str1\n",
    "    def show_string_one(self):\n",
    "        return self.str1"
   ]
  },
  {
   "cell_type": "code",
   "execution_count": 28,
   "id": "b6892e5e",
   "metadata": {},
   "outputs": [],
   "source": [
    "class Parent2():\n",
    "    def assign_string_two(self,str2):\n",
    "        self.str2=str2\n",
    "    def show_string_two(self):\n",
    "        return self.str2"
   ]
  },
  {
   "cell_type": "code",
   "execution_count": 29,
   "id": "f6363e28",
   "metadata": {},
   "outputs": [],
   "source": [
    "class Derived(Parent1,Parent2):\n",
    "    def assign_string_three(self,str3):\n",
    "        self.str3=str3\n",
    "    def show_string_three(self):\n",
    "        return self.str3\n",
    "        "
   ]
  },
  {
   "cell_type": "code",
   "execution_count": 32,
   "id": "a31df849",
   "metadata": {},
   "outputs": [],
   "source": [
    "d1=Derived() # instantiating Object of child class"
   ]
  },
  {
   "cell_type": "code",
   "execution_count": 35,
   "id": "ad9b595f",
   "metadata": {},
   "outputs": [],
   "source": [
    "d1.assign_string_one(\"One\")\n",
    "d1.assign_string_two(\"Two\")\n",
    "d1.assign_string_three(\"Three\")"
   ]
  },
  {
   "cell_type": "code",
   "execution_count": 36,
   "id": "a08c15fd",
   "metadata": {},
   "outputs": [
    {
     "data": {
      "text/plain": [
       "'One'"
      ]
     },
     "execution_count": 36,
     "metadata": {},
     "output_type": "execute_result"
    }
   ],
   "source": [
    "d1.show_string_one()"
   ]
  },
  {
   "cell_type": "code",
   "execution_count": 37,
   "id": "5c2e658b",
   "metadata": {},
   "outputs": [
    {
     "data": {
      "text/plain": [
       "'Two'"
      ]
     },
     "execution_count": 37,
     "metadata": {},
     "output_type": "execute_result"
    }
   ],
   "source": [
    "d1.show_string_two()"
   ]
  },
  {
   "cell_type": "code",
   "execution_count": 38,
   "id": "2cf0ebe6",
   "metadata": {},
   "outputs": [
    {
     "data": {
      "text/plain": [
       "'Three'"
      ]
     },
     "execution_count": 38,
     "metadata": {},
     "output_type": "execute_result"
    }
   ],
   "source": [
    "d1.show_string_three()"
   ]
  },
  {
   "cell_type": "code",
   "execution_count": 39,
   "id": "d13e8ad5",
   "metadata": {},
   "outputs": [],
   "source": [
    "# Multilevel Inheritance\n",
    "\n",
    "# In this we have Parent->Child-> Grand Child"
   ]
  },
  {
   "cell_type": "code",
   "execution_count": 61,
   "id": "260dfd19",
   "metadata": {},
   "outputs": [],
   "source": [
    "class Parent():\n",
    "    def get_name(self,name):\n",
    "        self.name=name\n",
    "    def show_name(self):\n",
    "        return self.name"
   ]
  },
  {
   "cell_type": "code",
   "execution_count": 62,
   "id": "4eede0d2",
   "metadata": {},
   "outputs": [],
   "source": [
    "class Child(Parent):\n",
    "    def get_age(self,age):\n",
    "        self.age=age\n",
    "    def show_age(self):\n",
    "        return self.age"
   ]
  },
  {
   "cell_type": "code",
   "execution_count": 63,
   "id": "881b942a",
   "metadata": {},
   "outputs": [],
   "source": [
    "class GrandChild(Child):\n",
    "    def get_gender(self,gender):\n",
    "        self.gender=gender\n",
    "    def show_gender(self):\n",
    "        return self.gender"
   ]
  },
  {
   "cell_type": "code",
   "execution_count": 64,
   "id": "86b28196",
   "metadata": {},
   "outputs": [],
   "source": [
    "gc=GrandChild()"
   ]
  },
  {
   "cell_type": "code",
   "execution_count": 65,
   "id": "ba83c8f0",
   "metadata": {},
   "outputs": [],
   "source": [
    "gc.get_name(\"dhanu\")"
   ]
  },
  {
   "cell_type": "code",
   "execution_count": 66,
   "id": "a7ccbfdc",
   "metadata": {},
   "outputs": [],
   "source": [
    "gc.get_age(12)"
   ]
  },
  {
   "cell_type": "code",
   "execution_count": 67,
   "id": "a578d6f0",
   "metadata": {},
   "outputs": [],
   "source": [
    "gc.get_gender(\"F\")"
   ]
  },
  {
   "cell_type": "code",
   "execution_count": 69,
   "id": "74737762",
   "metadata": {},
   "outputs": [
    {
     "data": {
      "text/plain": [
       "'dhanu'"
      ]
     },
     "execution_count": 69,
     "metadata": {},
     "output_type": "execute_result"
    }
   ],
   "source": [
    "gc.show_name()\n"
   ]
  },
  {
   "cell_type": "code",
   "execution_count": 70,
   "id": "506d8f99",
   "metadata": {},
   "outputs": [
    {
     "data": {
      "text/plain": [
       "12"
      ]
     },
     "execution_count": 70,
     "metadata": {},
     "output_type": "execute_result"
    }
   ],
   "source": [
    "gc.show_age()\n"
   ]
  },
  {
   "cell_type": "code",
   "execution_count": 71,
   "id": "de7cf815",
   "metadata": {},
   "outputs": [
    {
     "data": {
      "text/plain": [
       "'F'"
      ]
     },
     "execution_count": 71,
     "metadata": {},
     "output_type": "execute_result"
    }
   ],
   "source": [
    "gc.show_gender()"
   ]
  },
  {
   "cell_type": "code",
   "execution_count": null,
   "id": "39248302",
   "metadata": {},
   "outputs": [],
   "source": []
  }
 ],
 "metadata": {
  "kernelspec": {
   "display_name": "Python 3",
   "language": "python",
   "name": "python3"
  },
  "language_info": {
   "codemirror_mode": {
    "name": "ipython",
    "version": 3
   },
   "file_extension": ".py",
   "mimetype": "text/x-python",
   "name": "python",
   "nbconvert_exporter": "python",
   "pygments_lexer": "ipython3",
   "version": "3.8.8"
  }
 },
 "nbformat": 4,
 "nbformat_minor": 5
}
