{
 "cells": [
  {
   "cell_type": "code",
   "execution_count": 1,
   "id": "43bf93e6",
   "metadata": {},
   "outputs": [],
   "source": [
    "#hello World function and diff between print and return\n",
    "\n",
    "def hello_world():\n",
    "    print(\"Hello welcome\")"
   ]
  },
  {
   "cell_type": "code",
   "execution_count": 3,
   "id": "aec51c26",
   "metadata": {},
   "outputs": [
    {
     "name": "stdout",
     "output_type": "stream",
     "text": [
      "Hello welcome\n"
     ]
    }
   ],
   "source": [
    "val=hello_world()"
   ]
  },
  {
   "cell_type": "code",
   "execution_count": 4,
   "id": "1d039b52",
   "metadata": {},
   "outputs": [
    {
     "name": "stdout",
     "output_type": "stream",
     "text": [
      "None\n"
     ]
    }
   ],
   "source": [
    "print(val)"
   ]
  },
  {
   "cell_type": "code",
   "execution_count": 5,
   "id": "f3db06be",
   "metadata": {},
   "outputs": [],
   "source": [
    "#hello World function and diff between print and return\n",
    "\n",
    "def hello_world():\n",
    "    return \"Hello welcome\""
   ]
  },
  {
   "cell_type": "code",
   "execution_count": 6,
   "id": "c664dba7",
   "metadata": {},
   "outputs": [],
   "source": [
    "val=hello_world()"
   ]
  },
  {
   "cell_type": "code",
   "execution_count": 7,
   "id": "28ea32c5",
   "metadata": {},
   "outputs": [
    {
     "name": "stdout",
     "output_type": "stream",
     "text": [
      "Hello welcome\n"
     ]
    }
   ],
   "source": [
    "print(val)"
   ]
  },
  {
   "cell_type": "markdown",
   "id": "0337369a",
   "metadata": {},
   "source": [
    "NOTE==>  print is not returning any value of the function\n",
    "return is used when a function is returning something back after it is getting executed"
   ]
  },
  {
   "cell_type": "code",
   "execution_count": 16,
   "id": "72dfce14",
   "metadata": {},
   "outputs": [],
   "source": [
    "#Positional and keyword argument\n",
    "#here name is positional argument and age=25 is keyword argument\n",
    "def hello(name,age=25):\n",
    "    print(\"My name is {} and age is {}\".format(name,age))"
   ]
  },
  {
   "cell_type": "code",
   "execution_count": 17,
   "id": "a8d5841a",
   "metadata": {},
   "outputs": [
    {
     "name": "stdout",
     "output_type": "stream",
     "text": [
      "My name is dhanu and age is 25\n"
     ]
    }
   ],
   "source": [
    "hello('dhanu')"
   ]
  },
  {
   "cell_type": "code",
   "execution_count": 120,
   "id": "81fc6749",
   "metadata": {},
   "outputs": [],
   "source": [
    "# here *args means positional argument and **kwargs means keyword argument\n",
    "def hello(*args,**kwargs):\n",
    "    print(args)\n",
    "    print(kwargs)"
   ]
  },
  {
   "cell_type": "code",
   "execution_count": 21,
   "id": "da89045f",
   "metadata": {},
   "outputs": [
    {
     "name": "stdout",
     "output_type": "stream",
     "text": [
      "('aaa', 'ssss')\n",
      "{'age': 25, 'dob': 1996}\n"
     ]
    }
   ],
   "source": [
    "hello(\"aaa\",\"ssss\",age=25,dob=1996)"
   ]
  },
  {
   "cell_type": "code",
   "execution_count": null,
   "id": "797b291a",
   "metadata": {},
   "outputs": [],
   "source": []
  },
  {
   "cell_type": "markdown",
   "id": "9a3a0072",
   "metadata": {},
   "source": [
    "MAP FUNCTION IN PYTHON"
   ]
  },
  {
   "cell_type": "code",
   "execution_count": 28,
   "id": "b8c6e72f",
   "metadata": {},
   "outputs": [],
   "source": [
    "def even_or_odd(num):\n",
    "    if num%2==0:\n",
    "        return \"The no {} is Even\".format(num)\n",
    "    else:\n",
    "        return \"The no {} is odd\".format(num)"
   ]
  },
  {
   "cell_type": "code",
   "execution_count": 25,
   "id": "ec50a692",
   "metadata": {},
   "outputs": [
    {
     "data": {
      "text/plain": [
       "'The no 45 is odd'"
      ]
     },
     "execution_count": 25,
     "metadata": {},
     "output_type": "execute_result"
    }
   ],
   "source": [
    "even_or_odd(45)"
   ]
  },
  {
   "cell_type": "code",
   "execution_count": 29,
   "id": "5d4920f7",
   "metadata": {},
   "outputs": [],
   "source": [
    "lst=[1,2,3,4,5,55,66,44,20,28]"
   ]
  },
  {
   "cell_type": "markdown",
   "id": "0cad5d9b",
   "metadata": {},
   "source": [
    "#map==> lazy loading technique-->used for iteration .\n",
    "# here first parameter of map function is function and second one is iterables\n"
   ]
  },
  {
   "cell_type": "code",
   "execution_count": 31,
   "id": "47299403",
   "metadata": {},
   "outputs": [
    {
     "data": {
      "text/plain": [
       "['The no 1 is odd',\n",
       " 'The no 2 is Even',\n",
       " 'The no 3 is odd',\n",
       " 'The no 4 is Even',\n",
       " 'The no 5 is odd',\n",
       " 'The no 55 is odd',\n",
       " 'The no 66 is Even',\n",
       " 'The no 44 is Even',\n",
       " 'The no 20 is Even',\n",
       " 'The no 28 is Even']"
      ]
     },
     "execution_count": 31,
     "metadata": {},
     "output_type": "execute_result"
    }
   ],
   "source": [
    "list(map(even_or_odd,lst))"
   ]
  },
  {
   "cell_type": "markdown",
   "id": "cfa2937b",
   "metadata": {},
   "source": [
    "LAMBDA FUNCTION\n",
    "Anonymous function\n",
    "function with no name\n",
    "works faster than nomal function\n",
    "Single line"
   ]
  },
  {
   "cell_type": "code",
   "execution_count": 32,
   "id": "3cc5a30d",
   "metadata": {},
   "outputs": [],
   "source": [
    "def add(a,b):\n",
    "    return a+b"
   ]
  },
  {
   "cell_type": "code",
   "execution_count": 33,
   "id": "969c8df4",
   "metadata": {},
   "outputs": [
    {
     "data": {
      "text/plain": [
       "9"
      ]
     },
     "execution_count": 33,
     "metadata": {},
     "output_type": "execute_result"
    }
   ],
   "source": [
    "add(4,5)"
   ]
  },
  {
   "cell_type": "code",
   "execution_count": 35,
   "id": "31a87af0",
   "metadata": {},
   "outputs": [],
   "source": [
    "add=lambda a,b:a+b"
   ]
  },
  {
   "cell_type": "code",
   "execution_count": 37,
   "id": "29515972",
   "metadata": {},
   "outputs": [
    {
     "data": {
      "text/plain": [
       "11"
      ]
     },
     "execution_count": 37,
     "metadata": {},
     "output_type": "execute_result"
    }
   ],
   "source": [
    "add(5,6)"
   ]
  },
  {
   "cell_type": "code",
   "execution_count": 38,
   "id": "4a83cd9f",
   "metadata": {},
   "outputs": [],
   "source": [
    "def even(num):\n",
    "    if num%2==0:\n",
    "        return True"
   ]
  },
  {
   "cell_type": "code",
   "execution_count": 39,
   "id": "948c50db",
   "metadata": {},
   "outputs": [
    {
     "data": {
      "text/plain": [
       "True"
      ]
     },
     "execution_count": 39,
     "metadata": {},
     "output_type": "execute_result"
    }
   ],
   "source": [
    "even(14)"
   ]
  },
  {
   "cell_type": "code",
   "execution_count": 40,
   "id": "0e0f5914",
   "metadata": {},
   "outputs": [],
   "source": [
    "x=lambda a:a%2==0 "
   ]
  },
  {
   "cell_type": "code",
   "execution_count": 41,
   "id": "4dbf36f3",
   "metadata": {},
   "outputs": [
    {
     "data": {
      "text/plain": [
       "False"
      ]
     },
     "execution_count": 41,
     "metadata": {},
     "output_type": "execute_result"
    }
   ],
   "source": [
    "x(45)"
   ]
  },
  {
   "cell_type": "markdown",
   "id": "168619d4",
   "metadata": {},
   "source": [
    "FILTER FUNCTION IN PYTHON"
   ]
  },
  {
   "cell_type": "code",
   "execution_count": 42,
   "id": "d4212558",
   "metadata": {},
   "outputs": [],
   "source": [
    "lst=[2,1,4,5,6,7,8]"
   ]
  },
  {
   "cell_type": "code",
   "execution_count": 43,
   "id": "b2c6f108",
   "metadata": {},
   "outputs": [
    {
     "data": {
      "text/plain": [
       "[2, 4, 6, 8]"
      ]
     },
     "execution_count": 43,
     "metadata": {},
     "output_type": "execute_result"
    }
   ],
   "source": [
    "list(filter(even,lst))"
   ]
  },
  {
   "cell_type": "code",
   "execution_count": 45,
   "id": "5d155a1c",
   "metadata": {},
   "outputs": [
    {
     "data": {
      "text/plain": [
       "[2, 4, 6, 8]"
      ]
     },
     "execution_count": 45,
     "metadata": {},
     "output_type": "execute_result"
    }
   ],
   "source": [
    "# filter function using lambda function\n",
    "list(filter(lambda num:num%2==0,lst))"
   ]
  },
  {
   "cell_type": "code",
   "execution_count": 46,
   "id": "5ddd1168",
   "metadata": {},
   "outputs": [
    {
     "data": {
      "text/plain": [
       "[True, False, True, False, True, False, True]"
      ]
     },
     "execution_count": 46,
     "metadata": {},
     "output_type": "execute_result"
    }
   ],
   "source": [
    "list(map(lambda num:num%2==0,lst))"
   ]
  },
  {
   "cell_type": "markdown",
   "id": "9ac19aa8",
   "metadata": {},
   "source": [
    "###LIST COMPREHENSION\n",
    "\n",
    "List comprehensions provide a concise way to create lists.\n",
    "It consists of brackets containing an expression followed by a for clause,then zero or more for or if clauses.\n",
    "The expressions can be anything ,meaning you can put in all kinds of objects in lists. "
   ]
  },
  {
   "cell_type": "code",
   "execution_count": 51,
   "id": "c7805010",
   "metadata": {},
   "outputs": [],
   "source": [
    "lst1=[]\n",
    "def lst_square(lst):\n",
    "    for i in lst:\n",
    "        lst1.append(i*i)\n",
    "    return lst1"
   ]
  },
  {
   "cell_type": "code",
   "execution_count": 52,
   "id": "de859918",
   "metadata": {},
   "outputs": [
    {
     "data": {
      "text/plain": [
       "[1, 4, 9, 25, 36, 49, 64, 81]"
      ]
     },
     "execution_count": 52,
     "metadata": {},
     "output_type": "execute_result"
    }
   ],
   "source": [
    "lst_square([1,2,3,5,6,7,8,9])\n",
    "\n"
   ]
  },
  {
   "cell_type": "code",
   "execution_count": 54,
   "id": "8b34532a",
   "metadata": {},
   "outputs": [],
   "source": [
    "lst=[1,2,3,4,5,6,7,8,9]"
   ]
  },
  {
   "cell_type": "code",
   "execution_count": 56,
   "id": "65316853",
   "metadata": {},
   "outputs": [],
   "source": [
    "#List comprehension is basically a one line code it reduces the more memory usage,means it requires less memory \n",
    "\n",
    "lst2=[i*i for i in lst]"
   ]
  },
  {
   "cell_type": "code",
   "execution_count": 57,
   "id": "0902280f",
   "metadata": {},
   "outputs": [
    {
     "name": "stdout",
     "output_type": "stream",
     "text": [
      "[1, 4, 9, 16, 25, 36, 49, 64, 81]\n"
     ]
    }
   ],
   "source": [
    "print(lst2)"
   ]
  },
  {
   "cell_type": "code",
   "execution_count": 58,
   "id": "3c00549e",
   "metadata": {},
   "outputs": [],
   "source": [
    "lst2=[i*i for i in lst if i%2==0]"
   ]
  },
  {
   "cell_type": "code",
   "execution_count": 59,
   "id": "ab6693d2",
   "metadata": {},
   "outputs": [
    {
     "name": "stdout",
     "output_type": "stream",
     "text": [
      "[4, 16, 36, 64]\n"
     ]
    }
   ],
   "source": [
    "print(lst2)"
   ]
  },
  {
   "cell_type": "code",
   "execution_count": 60,
   "id": "5ed7df35",
   "metadata": {},
   "outputs": [],
   "source": [
    "##String Formatting in Python\n",
    "def greet(name):\n",
    "    return \"Hello {}.Welcome to the community\".format(name)"
   ]
  },
  {
   "cell_type": "code",
   "execution_count": 62,
   "id": "0974aa49",
   "metadata": {},
   "outputs": [
    {
     "data": {
      "text/plain": [
       "'Hello dhanu.Welcome to the community'"
      ]
     },
     "execution_count": 62,
     "metadata": {},
     "output_type": "execute_result"
    }
   ],
   "source": [
    "greet('dhanu')"
   ]
  },
  {
   "cell_type": "code",
   "execution_count": 63,
   "id": "2cfba3e4",
   "metadata": {},
   "outputs": [],
   "source": [
    "##String Formatting in Python\n",
    "def greet(name,age):\n",
    "    return \"Hello {name1}.and age {age1}./nWelcome to the community\".format(name1=name,age1=age)"
   ]
  },
  {
   "cell_type": "code",
   "execution_count": 64,
   "id": "49481f61",
   "metadata": {},
   "outputs": [
    {
     "data": {
      "text/plain": [
       "'Hello dhanu.and age 55./nWelcome to the community'"
      ]
     },
     "execution_count": 64,
     "metadata": {},
     "output_type": "execute_result"
    }
   ],
   "source": [
    "greet('dhanu',55)"
   ]
  },
  {
   "cell_type": "markdown",
   "id": "c7d604f4",
   "metadata": {},
   "source": [
    "****************Python List Iterables and Iterators**************"
   ]
  },
  {
   "cell_type": "code",
   "execution_count": 79,
   "id": "774f01ab",
   "metadata": {},
   "outputs": [
    {
     "name": "stdout",
     "output_type": "stream",
     "text": [
      "1\n",
      "2\n",
      "3\n",
      "4\n",
      "5\n",
      "6\n",
      "7\n"
     ]
    }
   ],
   "source": [
    "#List is iterable==> after we calling only all the values located in the memory location\n",
    "# here at a time whole elements stored in the memory whenever it is initialize\n",
    "lst=[1,2,3,4,5,6,7]\n",
    "\n",
    "for i in lst:\n",
    "    print(i)"
   ]
  },
  {
   "cell_type": "code",
   "execution_count": 106,
   "id": "153248fe",
   "metadata": {},
   "outputs": [],
   "source": [
    "#Iterator\n",
    "lst1=iter(lst)"
   ]
  },
  {
   "cell_type": "code",
   "execution_count": 111,
   "id": "e42e7f41",
   "metadata": {},
   "outputs": [],
   "source": [
    "# initially all values are not allocated in the memory location only when we call the next function one by one element gets initialize in the memory..after that only for single element it will allocate memory location.\n",
    "#at a time only one element is allocated at memory location not the all element."
   ]
  },
  {
   "cell_type": "code",
   "execution_count": 112,
   "id": "44f33827",
   "metadata": {},
   "outputs": [
    {
     "data": {
      "text/plain": [
       "<list_iterator at 0x152175a6310>"
      ]
     },
     "execution_count": 112,
     "metadata": {},
     "output_type": "execute_result"
    }
   ],
   "source": [
    "lst1 "
   ]
  },
  {
   "cell_type": "code",
   "execution_count": 113,
   "id": "57a42975",
   "metadata": {},
   "outputs": [
    {
     "ename": "StopIteration",
     "evalue": "",
     "output_type": "error",
     "traceback": [
      "\u001b[1;31m---------------------------------------------------------------------------\u001b[0m",
      "\u001b[1;31mStopIteration\u001b[0m                             Traceback (most recent call last)",
      "\u001b[1;32m<ipython-input-113-6bfda7f8a427>\u001b[0m in \u001b[0;36m<module>\u001b[1;34m\u001b[0m\n\u001b[0;32m      1\u001b[0m \u001b[1;31m#To access vales from iterator next keyword is used and at a time only one element stored in the memory\u001b[0m\u001b[1;33m\u001b[0m\u001b[1;33m\u001b[0m\u001b[1;33m\u001b[0m\u001b[0m\n\u001b[1;32m----> 2\u001b[1;33m \u001b[0mnext\u001b[0m\u001b[1;33m(\u001b[0m\u001b[0mlst1\u001b[0m\u001b[1;33m)\u001b[0m\u001b[1;33m\u001b[0m\u001b[1;33m\u001b[0m\u001b[0m\n\u001b[0m",
      "\u001b[1;31mStopIteration\u001b[0m: "
     ]
    }
   ],
   "source": [
    "#To access vales from iterator next keyword is used and at a time only one element stored in the memory\n",
    "next(lst1)"
   ]
  },
  {
   "cell_type": "code",
   "execution_count": 114,
   "id": "e4de12ec",
   "metadata": {},
   "outputs": [
    {
     "ename": "StopIteration",
     "evalue": "",
     "output_type": "error",
     "traceback": [
      "\u001b[1;31m---------------------------------------------------------------------------\u001b[0m",
      "\u001b[1;31mStopIteration\u001b[0m                             Traceback (most recent call last)",
      "\u001b[1;32m<ipython-input-114-15dfa6f6acfc>\u001b[0m in \u001b[0;36m<module>\u001b[1;34m\u001b[0m\n\u001b[1;32m----> 1\u001b[1;33m \u001b[0mnext\u001b[0m\u001b[1;33m(\u001b[0m\u001b[0mlst1\u001b[0m\u001b[1;33m)\u001b[0m\u001b[1;33m\u001b[0m\u001b[1;33m\u001b[0m\u001b[0m\n\u001b[0m",
      "\u001b[1;31mStopIteration\u001b[0m: "
     ]
    }
   ],
   "source": [
    "next(lst1)"
   ]
  },
  {
   "cell_type": "code",
   "execution_count": 115,
   "id": "31653fae",
   "metadata": {
    "scrolled": true
   },
   "outputs": [
    {
     "ename": "StopIteration",
     "evalue": "",
     "output_type": "error",
     "traceback": [
      "\u001b[1;31m---------------------------------------------------------------------------\u001b[0m",
      "\u001b[1;31mStopIteration\u001b[0m                             Traceback (most recent call last)",
      "\u001b[1;32m<ipython-input-115-407b30029ebb>\u001b[0m in \u001b[0;36m<module>\u001b[1;34m\u001b[0m\n\u001b[0;32m      1\u001b[0m \u001b[1;31m# Note if in lst1 last element is 7 then again if try to iterate its element then following error comes.\u001b[0m\u001b[1;33m\u001b[0m\u001b[1;33m\u001b[0m\u001b[1;33m\u001b[0m\u001b[0m\n\u001b[1;32m----> 2\u001b[1;33m \u001b[0mnext\u001b[0m\u001b[1;33m(\u001b[0m\u001b[0mlst1\u001b[0m\u001b[1;33m)\u001b[0m\u001b[1;33m\u001b[0m\u001b[1;33m\u001b[0m\u001b[0m\n\u001b[0m",
      "\u001b[1;31mStopIteration\u001b[0m: "
     ]
    }
   ],
   "source": [
    "# Note if in lst1 last element is 7 then again if try to iterate its element then following error comes.\n",
    "next(lst1)"
   ]
  },
  {
   "cell_type": "code",
   "execution_count": 118,
   "id": "1ad34a7e",
   "metadata": {},
   "outputs": [],
   "source": [
    "#NOTE==> iterators can traverersed using for loop"
   ]
  },
  {
   "cell_type": "code",
   "execution_count": 119,
   "id": "77390a51",
   "metadata": {},
   "outputs": [],
   "source": [
    "lst1\n",
    "for i in lst1:\n",
    "    print(i)"
   ]
  },
  {
   "cell_type": "code",
   "execution_count": null,
   "id": "a45b8c4c",
   "metadata": {},
   "outputs": [],
   "source": []
  }
 ],
 "metadata": {
  "kernelspec": {
   "display_name": "Python 3",
   "language": "python",
   "name": "python3"
  },
  "language_info": {
   "codemirror_mode": {
    "name": "ipython",
    "version": 3
   },
   "file_extension": ".py",
   "mimetype": "text/x-python",
   "name": "python",
   "nbconvert_exporter": "python",
   "pygments_lexer": "ipython3",
   "version": "3.8.8"
  }
 },
 "nbformat": 4,
 "nbformat_minor": 5
}
