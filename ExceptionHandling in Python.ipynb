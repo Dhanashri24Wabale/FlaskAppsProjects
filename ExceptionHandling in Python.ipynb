{
 "cells": [
  {
   "cell_type": "markdown",
   "id": "d7780538",
   "metadata": {},
   "source": [
    "#difference between error and exception:\n",
    "Error==> \n",
    "badically occurs at run time and cannot be handled\n",
    "exception==> Can be handled at run time"
   ]
  },
  {
   "cell_type": "markdown",
   "id": "a721b00b",
   "metadata": {},
   "source": [
    "Exception Handdling==>\n",
    "\n",
    "try:\n",
    "  ## Code block where exception can occur\n",
    "except:\n",
    "  Print(\"Some problem may have occured\")"
   ]
  },
  {
   "cell_type": "code",
   "execution_count": null,
   "id": "0ff9125d",
   "metadata": {},
   "outputs": [],
   "source": [
    "a=b"
   ]
  },
  {
   "cell_type": "code",
   "execution_count": null,
   "id": "fc51d85c",
   "metadata": {},
   "outputs": [],
   "source": [
    "try:\n",
    "    a=b\n",
    "except:\n",
    "    print(\"Some problem may have occured\")"
   ]
  },
  {
   "cell_type": "code",
   "execution_count": null,
   "id": "dc94bc6c",
   "metadata": {},
   "outputs": [],
   "source": [
    "try:\n",
    "    a=b\n",
    "except Exception as ex:\n",
    "    print(ex)"
   ]
  },
  {
   "cell_type": "code",
   "execution_count": null,
   "id": "ea0eff58",
   "metadata": {},
   "outputs": [],
   "source": [
    "try:\n",
    "    a=b\n",
    "except NameError:\n",
    "    print(\"The user have not defined the variable\")\n",
    "except Exception as ex:\n",
    "    print(ex)"
   ]
  },
  {
   "cell_type": "code",
   "execution_count": null,
   "id": "eb4808ca",
   "metadata": {},
   "outputs": [],
   "source": [
    "try:\n",
    "    a=1\n",
    "    b='s'\n",
    "    c=a+b\n",
    "except NameError:\n",
    "    print(\"The user have not defined the variable\")\n",
    "except TypeError:\n",
    "    print(\"String and integer not added toghether,so try to make daatype similiar\")\n",
    "except Exception as ex:\n",
    "    print(ex)"
   ]
  },
  {
   "cell_type": "code",
   "execution_count": null,
   "id": "63420dc7",
   "metadata": {},
   "outputs": [],
   "source": [
    "a=1\n",
    "b='s'\n",
    "c=a+b"
   ]
  },
  {
   "cell_type": "code",
   "execution_count": null,
   "id": "b3eb938d",
   "metadata": {},
   "outputs": [],
   "source": [
    "try:\n",
    "    a=int(input(\"Enter the number 1:\"))\n",
    "    b=int(input(\"Enter the number 2:\"))\n",
    "    c=a/b\n",
    "    d=a*b\n",
    "    e=a+b\n",
    "    print(c)\n",
    "    print(d)\n",
    "    print(e)\n",
    "except NameError:\n",
    "    print(\"The user have not defined the variable\")\n",
    "except ZeroDivisionError:\n",
    "    print(\"Please provide number greater than 0\")\n",
    "except TypeError:\n",
    "    print(\"String and integer not added toghether,so try to make daatype similiar\")\n",
    "except Exception as ex:\n",
    "    print(ex)"
   ]
  },
  {
   "cell_type": "code",
   "execution_count": null,
   "id": "f0e6d905",
   "metadata": {},
   "outputs": [],
   "source": [
    "12/0\n"
   ]
  },
  {
   "cell_type": "code",
   "execution_count": null,
   "id": "6d8297f5",
   "metadata": {},
   "outputs": [],
   "source": [
    "## try else block\n",
    "try:\n",
    "    a=int(input(\"Enter the number 1:\"))\n",
    "    b=int(input(\"Enter the number 2:\"))\n",
    "    c=a/b\n",
    "    d=a*b\n",
    "    e=a+b\n",
    "    \n",
    "except NameError:\n",
    "    print(\"The user have not defined the variable\")\n",
    "except ZeroDivisionError:\n",
    "    print(\"Please provide number greater than 0\")\n",
    "except TypeError:\n",
    "    print(\"String and integer not added toghether,so try to make daatype similiar\")\n",
    "except Exception as ex:\n",
    "    print(ex)\n",
    "    \n",
    "else:\n",
    "    print(c)\n",
    "    print(d)\n",
    "    print(e)"
   ]
  },
  {
   "cell_type": "code",
   "execution_count": null,
   "id": "8f59ec8e",
   "metadata": {},
   "outputs": [],
   "source": [
    "##try else finally\n",
    "## \n",
    "try:\n",
    "    a=int(input(\"Enter the number 1:\"))\n",
    "    b=int(input(\"Enter the number 2:\"))\n",
    "    c=a/b\n",
    "    \n",
    "except NameError:\n",
    "    print(\"The user have not defined the variable\")\n",
    "except ZeroDivisionError:\n",
    "    print(\"Please provide number greater than 0\")\n",
    "except TypeError:\n",
    "    print(\"String and integer not added toghether,so try to make daatype similiar\")\n",
    "except Exception as ex:\n",
    "    print(ex)\n",
    "    \n",
    "else:\n",
    "    print(c)\n",
    "finally:\n",
    "    print(\"The execution is done\")"
   ]
  },
  {
   "cell_type": "markdown",
   "id": "bfff47b6",
   "metadata": {},
   "source": [
    "CUSTOM EXCEPTION:\n"
   ]
  },
  {
   "cell_type": "code",
   "execution_count": null,
   "id": "91c8ee21",
   "metadata": {},
   "outputs": [],
   "source": [
    "class Error(Exception):\n",
    "    pass \n",
    "class dobException(Error):\n",
    "    pass\n"
   ]
  },
  {
   "cell_type": "code",
   "execution_count": null,
   "id": "9f59ed29",
   "metadata": {},
   "outputs": [],
   "source": [
    "year=int(input(\"please enter the year of birth\"))\n",
    "age=2021-year\n",
    "try:\n",
    "    if age<=30 & age>20:\n",
    "        print(\"the age is valid.you can apply for the examps\")\n",
    "    else:\n",
    "        raise dobException\n",
    "except dobException:\n",
    "    print(\"the year age is not within the range.you cannot apply for the examps\")"
   ]
  },
  {
   "cell_type": "code",
   "execution_count": null,
   "id": "6f3cfd5d",
   "metadata": {},
   "outputs": [],
   "source": []
  },
  {
   "cell_type": "code",
   "execution_count": null,
   "id": "5b3a56db",
   "metadata": {},
   "outputs": [],
   "source": []
  },
  {
   "cell_type": "code",
   "execution_count": null,
   "id": "557a0193",
   "metadata": {},
   "outputs": [],
   "source": []
  }
 ],
 "metadata": {
  "kernelspec": {
   "display_name": "Python 3",
   "language": "python",
   "name": "python3"
  },
  "language_info": {
   "codemirror_mode": {
    "name": "ipython",
    "version": 3
   },
   "file_extension": ".py",
   "mimetype": "text/x-python",
   "name": "python",
   "nbconvert_exporter": "python",
   "pygments_lexer": "ipython3",
   "version": "3.8.8"
  }
 },
 "nbformat": 4,
 "nbformat_minor": 5
}
